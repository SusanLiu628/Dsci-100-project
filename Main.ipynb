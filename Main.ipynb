{
 "cells": [
  {
   "cell_type": "markdown",
   "id": "123b886a-39f9-48e7-8ad3-19e8a94767b8",
   "metadata": {},
   "source": [
    "Predicting Spam with Capital Letter Frequency"
   ]
  },
  {
   "cell_type": "markdown",
   "id": "8d7b67da-8db8-47d1-8746-c9dc4433550e",
   "metadata": {},
   "source": [
    "REMEMBER: upload both an html and .ipynb file to the assignment"
   ]
  },
  {
   "cell_type": "markdown",
   "id": "e582f446-ed9c-4624-899f-e2ff6a35b81e",
   "metadata": {},
   "source": [
    "## Question : Can the credibility of mail be catagorized based on the use of capital letters and keywords in its message content?"
   ]
  },
  {
   "cell_type": "markdown",
   "id": "257cc702-a635-4196-bb70-7be6f4ba24b6",
   "metadata": {},
   "source": [
    "### Introduction:\n",
    "\n",
    "Spam mail, or unsolicited messages sent en mass to random recipients have grown in volume in recent years following the convenience and anonymity of the internet [Kaddoura et al., 2022]. Ranging from harmless business advertisements to scams taking advantage of vulnerable groups, this phenomenon imposes varying degrees of economic and emotional harm on a vast number of e-mail users [Kaddoura et al., 2022]. Attention grabbing words and an overuse of capital letters are common features of spam mail, [Mujtaba et al., 2017] and mail-filtering programs have long been proposed as a potential solution to reduce user interaction with spam mail [Kaddoura et al., 2022]. Since many of these programs use lexical and term-based features in identifying spam mail [Mujtaba et al., 2017], the reliability of these identifiers are important to the accuracy of spam mail detectors. We will be investigating if the legitimacy of mail can be categorized based on the use of capital letters and keywords in email using the UCI Machine Learing Repository's Spambase dataset which is composed of emails flagged as spam by recipients as well as personal and work-related non-spam emails. The dataset provides infomation regarding the longest run length of capital letters throughout the message (in the capital_run_length_longest column) as well percentage of certain characters in the message such as \"free\" and \"!\". We will be analyzing the accuracy of categorizing spam mail based on the percentage of the strings \"000\", \"free\" and \"credit\", as well as the longest run of capital letters in a message. Our exploratory data analysis showed that there was a significant difference in the mean value for these variables between spam and non-spam e-mails, and are likely good identifiers.\n",
    "\n",
    "\n"
   ]
  },
  {
   "cell_type": "markdown",
   "id": "d5aead6c-9435-483c-9b91-fc927c9e967b",
   "metadata": {},
   "source": [
    "### Preliminary exploratory data analysis"
   ]
  },
  {
   "cell_type": "code",
   "execution_count": 1,
   "id": "1dcee137-73cd-46c5-ac45-4f0df72d8ed5",
   "metadata": {},
   "outputs": [],
   "source": [
    "import pandas as pd\n",
    "from collections import ChainMap\n",
    "from sklearn.model_selection import train_test_split"
   ]
  },
  {
   "cell_type": "code",
   "execution_count": 2,
   "id": "52a3ac0e-03d1-4965-8205-f174b42675c8",
   "metadata": {},
   "outputs": [
    {
     "data": {
      "text/plain": [
       "DataTransformerRegistry.enable('default')"
      ]
     },
     "execution_count": 2,
     "metadata": {},
     "output_type": "execute_result"
    }
   ],
   "source": [
    "import altair as alt\n",
    "alt.data_transformers.disable_max_rows()\n",
    "# !{sys.executable} -m pip uninstall rfc3986-validator"
   ]
  },
  {
   "cell_type": "code",
   "execution_count": 3,
   "id": "75a83b3d-0239-48e7-b645-8b904cc05f52",
   "metadata": {},
   "outputs": [],
   "source": [
    "import numpy as np\n",
    "np.random.seed(1234)"
   ]
  },
  {
   "cell_type": "code",
   "execution_count": 4,
   "id": "56290f82-a279-4206-b167-5f8bcd8cf42d",
   "metadata": {},
   "outputs": [],
   "source": [
    "spam = pd.read_csv(\"spambase.data\", header = None)"
   ]
  },
  {
   "cell_type": "code",
   "execution_count": 5,
   "id": "8f5f6be8-6599-4224-90a7-5090edf45150",
   "metadata": {},
   "outputs": [],
   "source": [
    "spam_titles = pd.read_csv(\"spambase.names\", skiprows = 31)\n",
    "spam_titles_split = spam_titles[\"1\"].str.split(\":\", expand = True)\n",
    "spam_headers = spam_titles_split[[0]].to_dict()\n",
    "spam_headers = dict(ChainMap(*spam_headers.values()))\n",
    "\n",
    "spam = spam.rename(columns = spam_headers).rename(columns = {57: \"is_spam\"})"
   ]
  },
  {
   "cell_type": "code",
   "execution_count": 6,
   "id": "2df0ce71-6ef3-45cf-b2fb-b5578bd937ff",
   "metadata": {},
   "outputs": [],
   "source": [
    "spam_train, spam_test = train_test_split(spam, train_size = 0.75, stratify = spam[\"is_spam\"])"
   ]
  },
  {
   "cell_type": "markdown",
   "id": "b0f5b2d6-324b-480c-ab25-b00a4be19159",
   "metadata": {},
   "source": [
    "#### Identifying Predictor Variables\n"
   ]
  },
  {
   "cell_type": "code",
   "execution_count": 7,
   "id": "12abdcd2-a8ef-4033-a3df-25f4f2fe8ced",
   "metadata": {},
   "outputs": [
    {
     "name": "stderr",
     "output_type": "stream",
     "text": [
      "/opt/conda/lib/python3.10/site-packages/altair/utils/core.py:317: FutureWarning: iteritems is deprecated and will be removed in a future version. Use .items instead.\n",
      "  for col_name, dtype in df.dtypes.iteritems():\n"
     ]
    },
    {
     "data": {
      "text/html": [
       "\n",
       "<div id=\"altair-viz-3ce05790355b40b09c766711ef9da09b\"></div>\n",
       "<script type=\"text/javascript\">\n",
       "  var VEGA_DEBUG = (typeof VEGA_DEBUG == \"undefined\") ? {} : VEGA_DEBUG;\n",
       "  (function(spec, embedOpt){\n",
       "    let outputDiv = document.currentScript.previousElementSibling;\n",
       "    if (outputDiv.id !== \"altair-viz-3ce05790355b40b09c766711ef9da09b\") {\n",
       "      outputDiv = document.getElementById(\"altair-viz-3ce05790355b40b09c766711ef9da09b\");\n",
       "    }\n",
       "    const paths = {\n",
       "      \"vega\": \"https://cdn.jsdelivr.net/npm//vega@5?noext\",\n",
       "      \"vega-lib\": \"https://cdn.jsdelivr.net/npm//vega-lib?noext\",\n",
       "      \"vega-lite\": \"https://cdn.jsdelivr.net/npm//vega-lite@4.17.0?noext\",\n",
       "      \"vega-embed\": \"https://cdn.jsdelivr.net/npm//vega-embed@6?noext\",\n",
       "    };\n",
       "\n",
       "    function maybeLoadScript(lib, version) {\n",
       "      var key = `${lib.replace(\"-\", \"\")}_version`;\n",
       "      return (VEGA_DEBUG[key] == version) ?\n",
       "        Promise.resolve(paths[lib]) :\n",
       "        new Promise(function(resolve, reject) {\n",
       "          var s = document.createElement('script');\n",
       "          document.getElementsByTagName(\"head\")[0].appendChild(s);\n",
       "          s.async = true;\n",
       "          s.onload = () => {\n",
       "            VEGA_DEBUG[key] = version;\n",
       "            return resolve(paths[lib]);\n",
       "          };\n",
       "          s.onerror = () => reject(`Error loading script: ${paths[lib]}`);\n",
       "          s.src = paths[lib];\n",
       "        });\n",
       "    }\n",
       "\n",
       "    function showError(err) {\n",
       "      outputDiv.innerHTML = `<div class=\"error\" style=\"color:red;\">${err}</div>`;\n",
       "      throw err;\n",
       "    }\n",
       "\n",
       "    function displayChart(vegaEmbed) {\n",
       "      vegaEmbed(outputDiv, spec, embedOpt)\n",
       "        .catch(err => showError(`Javascript Error: ${err.message}<br>This usually means there's a typo in your chart specification. See the javascript console for the full traceback.`));\n",
       "    }\n",
       "\n",
       "    if(typeof define === \"function\" && define.amd) {\n",
       "      requirejs.config({paths});\n",
       "      require([\"vega-embed\"], displayChart, err => showError(`Error loading script: ${err.message}`));\n",
       "    } else {\n",
       "      maybeLoadScript(\"vega\", \"5\")\n",
       "        .then(() => maybeLoadScript(\"vega-lite\", \"4.17.0\"))\n",
       "        .then(() => maybeLoadScript(\"vega-embed\", \"6\"))\n",
       "        .catch(showError)\n",
       "        .then(() => displayChart(vegaEmbed));\n",
       "    }\n",
       "  })({\"config\": {\"view\": {\"continuousWidth\": 400, \"continuousHeight\": 300}}, \"data\": {\"name\": \"data-1b655b58db57717f155610d3d9c78cce\"}, \"mark\": {\"type\": \"bar\", \"color\": \"orange\"}, \"encoding\": {\"x\": {\"field\": \"variable\", \"sort\": \"-y\", \"title\": \"Predictor Variable\", \"type\": \"nominal\"}, \"y\": {\"field\": \"spam_non_spam_ratio\", \"title\": \"Mean Spam / Mean Non-Spam\", \"type\": \"quantitative\"}}, \"title\": \"Ratios of Spam to Non-Spam Mean\", \"$schema\": \"https://vega.github.io/schema/vega-lite/v4.17.0.json\", \"datasets\": {\"data-1b655b58db57717f155610d3d9c78cce\": [{\"variable\": \"word_freq_000\", \"mean_value_spam\": 0.25228108903605595, \"mean_value_non_spam\": 0.007967479674796748, \"spam_non_spam_ratio\": 31.66385097085192}, {\"variable\": \"word_freq_remove\", \"mean_value_spam\": 0.27937454010301693, \"mean_value_non_spam\": 0.009827833572453372, \"spam_non_spam_ratio\": 28.426869263036902}, {\"variable\": \"word_freq_credit\", \"mean_value_spam\": 0.2058793230316409, \"mean_value_non_spam\": 0.009296987087517935, \"spam_non_spam_ratio\": 22.14473582608853}, {\"variable\": \"char_freq_$\", \"mean_value_spam\": 0.1779234731420162, \"mean_value_non_spam\": 0.011273553323768531, \"spam_non_spam_ratio\": 15.782377395323289}, {\"variable\": \"word_freq_addresses\", \"mean_value_spam\": 0.10949963208241355, \"mean_value_non_spam\": 0.009335246293639406, \"spam_non_spam_ratio\": 11.729699317844608}, {\"variable\": \"word_freq_money\", \"mean_value_spam\": 0.21213392200147163, \"mean_value_non_spam\": 0.02017694882831181, \"spam_non_spam_ratio\": 10.513676959115363}, {\"variable\": \"word_freq_free\", \"mean_value_spam\": 0.5358351729212657, \"mean_value_non_spam\": 0.08064562410329985, \"spam_non_spam_ratio\": 6.644318013273834}, {\"variable\": \"word_freq_font\", \"mean_value_spam\": 0.25486387049300957, \"mean_value_non_spam\": 0.0437063605930177, \"spam_non_spam_ratio\": 5.831276432879779}, {\"variable\": \"word_freq_business\", \"mean_value_spam\": 0.29779985283296545, \"mean_value_non_spam\": 0.051205164992826395, \"spam_non_spam_ratio\": 5.815816683232752}, {\"variable\": \"capital_run_length_longest\", \"mean_value_spam\": 104.94996320824136, \"mean_value_non_spam\": 18.715925394548062, \"spam_non_spam_ratio\": 5.607521989738921}, {\"variable\": \"char_freq_!\", \"mean_value_spam\": 0.5125275938189846, \"mean_value_non_spam\": 0.09552510760401721, \"spam_non_spam_ratio\": 5.365370494462869}, {\"variable\": \"word_freq_receive\", \"mean_value_spam\": 0.12142016188373804, \"mean_value_non_spam\": 0.022936394069823052, \"spam_non_spam_ratio\": 5.293777283129613}, {\"variable\": \"word_freq_internet\", \"mean_value_spam\": 0.2196467991169978, \"mean_value_non_spam\": 0.04218555714968915, \"spam_non_spam_ratio\": 5.206682427770574}, {\"variable\": \"word_freq_order\", \"mean_value_spam\": 0.17426784400294332, \"mean_value_non_spam\": 0.04234337637494021, \"spam_non_spam_ratio\": 4.115586873844077}, {\"variable\": \"capital_run_length_average\", \"mean_value_spam\": 9.775291390728476, \"mean_value_non_spam\": 2.4340463892874227, \"spam_non_spam_ratio\": 4.016066182530825}, {\"variable\": \"word_freq_over\", \"mean_value_spam\": 0.1721633554083885, \"mean_value_non_spam\": 0.04456719273075083, \"spam_non_spam_ratio\": 3.863006504549205}, {\"variable\": \"char_freq_#\", \"mean_value_spam\": 0.07901250919793965, \"mean_value_non_spam\": 0.023871353419416545, \"spam_non_spam_ratio\": 3.3099300156845}, {\"variable\": \"word_freq_email\", \"mean_value_spam\": 0.3153642384105961, \"mean_value_non_spam\": 0.09922525107604016, \"spam_non_spam_ratio\": 3.178265965474053}, {\"variable\": \"word_freq_your\", \"mean_value_spam\": 1.3779396615158204, \"mean_value_non_spam\": 0.4367049258727882, \"spam_non_spam_ratio\": 3.1553105538296884}, {\"variable\": \"word_freq_our\", \"mean_value_spam\": 0.5196394407652686, \"mean_value_non_spam\": 0.17824007651841225, \"spam_non_spam_ratio\": 2.9153905839553973}]}}, {\"mode\": \"vega-lite\"});\n",
       "</script>"
      ],
      "text/plain": [
       "alt.Chart(...)"
      ]
     },
     "execution_count": 7,
     "metadata": {},
     "output_type": "execute_result"
    }
   ],
   "source": [
    "# normalize data\n",
    "# spam_train = (spam_train - spam_train.min()) / (spam_train.max() - spam_train.min())\n",
    "\n",
    "\n",
    "spam_mail = spam_train[spam_train[\"is_spam\"] == 1]\n",
    "non_spam = spam_train[spam_train[\"is_spam\"] == 0]\n",
    "mean_spam = pd.DataFrame(spam_mail.mean().reset_index()).rename(columns = {\"index\": \"variable\", 0: \"mean_value_spam\"})\n",
    "mean_non_spam = pd.DataFrame(non_spam.mean().reset_index()).rename(columns = {\"index\": \"variable\", 0: \"mean_value_non_spam\"})\n",
    "mean_non_spam\n",
    "\n",
    "mean_val_compare = mean_spam.merge(mean_non_spam, on = \"variable\")\n",
    "mean_val_compare = mean_val_compare.assign(spam_non_spam_ratio = mean_val_compare[\"mean_value_spam\"] / mean_val_compare[\"mean_value_non_spam\"])\n",
    "mean_val_compare = mean_val_compare.sort_values(by=\"spam_non_spam_ratio\", ascending=False)\n",
    "# drop 3d as it is invalid\n",
    "mean_val_compare_plot_data = mean_val_compare[~mean_val_compare[\"variable\"].isin([\"word_freq_3d\", \"is_spam\"])]\n",
    "\n",
    "ratio_bar_plot_top_20 = (\n",
    "    alt.Chart(\n",
    "        mean_val_compare_plot_data.head(20), title=\"Ratios of Spam to Non-Spam Mean\"\n",
    "    ).mark_bar(color='orange')\n",
    "    .encode(\n",
    "        x=alt.X(\n",
    "            \"variable\",\n",
    "            title=\"Predictor Variable\",\n",
    "            sort='-y'\n",
    "        ),\n",
    "        y=alt.Y(\n",
    "            \"spam_non_spam_ratio\",\n",
    "            title=\"Mean Spam / Mean Non-Spam\",\n",
    "        ),\n",
    "    )\n",
    ")\n",
    "\n",
    "ratio_bar_plot_top_20"
   ]
  },
  {
   "cell_type": "markdown",
   "id": "a39bf507-0e92-40a8-9a79-80ceb24009ec",
   "metadata": {},
   "source": [
    "Reduce dataframes we will use to only the data we will need"
   ]
  },
  {
   "cell_type": "code",
   "execution_count": 8,
   "id": "e0551b04-df3e-40fd-93f6-f0eafa681c8d",
   "metadata": {},
   "outputs": [
    {
     "data": {
      "text/html": [
       "<div>\n",
       "<style scoped>\n",
       "    .dataframe tbody tr th:only-of-type {\n",
       "        vertical-align: middle;\n",
       "    }\n",
       "\n",
       "    .dataframe tbody tr th {\n",
       "        vertical-align: top;\n",
       "    }\n",
       "\n",
       "    .dataframe thead th {\n",
       "        text-align: right;\n",
       "    }\n",
       "</style>\n",
       "<table border=\"1\" class=\"dataframe\">\n",
       "  <thead>\n",
       "    <tr style=\"text-align: right;\">\n",
       "      <th></th>\n",
       "      <th>word_freq_000</th>\n",
       "      <th>word_freq_credit</th>\n",
       "      <th>word_freq_free</th>\n",
       "      <th>capital_run_length_longest</th>\n",
       "      <th>is_spam</th>\n",
       "    </tr>\n",
       "  </thead>\n",
       "  <tbody>\n",
       "    <tr>\n",
       "      <th>4037</th>\n",
       "      <td>0.0</td>\n",
       "      <td>0.0</td>\n",
       "      <td>0.0</td>\n",
       "      <td>1</td>\n",
       "      <td>0</td>\n",
       "    </tr>\n",
       "    <tr>\n",
       "      <th>2998</th>\n",
       "      <td>0.0</td>\n",
       "      <td>0.0</td>\n",
       "      <td>0.0</td>\n",
       "      <td>6</td>\n",
       "      <td>0</td>\n",
       "    </tr>\n",
       "    <tr>\n",
       "      <th>3946</th>\n",
       "      <td>0.0</td>\n",
       "      <td>0.0</td>\n",
       "      <td>0.0</td>\n",
       "      <td>5</td>\n",
       "      <td>0</td>\n",
       "    </tr>\n",
       "    <tr>\n",
       "      <th>1069</th>\n",
       "      <td>0.0</td>\n",
       "      <td>0.0</td>\n",
       "      <td>0.0</td>\n",
       "      <td>54</td>\n",
       "      <td>1</td>\n",
       "    </tr>\n",
       "    <tr>\n",
       "      <th>1154</th>\n",
       "      <td>0.0</td>\n",
       "      <td>0.0</td>\n",
       "      <td>0.0</td>\n",
       "      <td>13</td>\n",
       "      <td>1</td>\n",
       "    </tr>\n",
       "  </tbody>\n",
       "</table>\n",
       "</div>"
      ],
      "text/plain": [
       "      word_freq_000  word_freq_credit  word_freq_free  \\\n",
       "4037            0.0               0.0             0.0   \n",
       "2998            0.0               0.0             0.0   \n",
       "3946            0.0               0.0             0.0   \n",
       "1069            0.0               0.0             0.0   \n",
       "1154            0.0               0.0             0.0   \n",
       "\n",
       "      capital_run_length_longest  is_spam  \n",
       "4037                           1        0  \n",
       "2998                           6        0  \n",
       "3946                           5        0  \n",
       "1069                          54        1  \n",
       "1154                          13        1  "
      ]
     },
     "execution_count": 8,
     "metadata": {},
     "output_type": "execute_result"
    }
   ],
   "source": [
    "spam_train_predictors = spam_train[[\"word_freq_000\", \"word_freq_credit\", \"word_freq_free\", \"capital_run_length_longest\", \"is_spam\"]]\n",
    "mean_val_predictors = mean_val_compare[mean_val_compare[\"variable\"].isin([\"word_freq_000\", \"word_freq_credit\", \"word_freq_free\", \"capital_run_length_longest\"])]\n",
    "\n",
    "spam_train_predictors.head()\n",
    "\n",
    "# spam_train_predictors_norm = (spam_train_predictors - spam_train_predictors.min()) / (spam_train_predictors.max() - spam_train_predictors.min())\n",
    "# spam_train_predictors_norm.head(30)"
   ]
  },
  {
   "cell_type": "markdown",
   "id": "f5ba89db-978b-4f2f-b320-8d8c06fb5b72",
   "metadata": {},
   "source": [
    "We also noticed the capital run length has an anomaly (9989) that makes the data much harder visualize, since all the other values are much smaller :"
   ]
  },
  {
   "cell_type": "code",
   "execution_count": 9,
   "id": "b24f5748-4134-4344-8abe-c11f86836502",
   "metadata": {},
   "outputs": [
    {
     "data": {
      "text/plain": [
       "word_freq_000                    5.45\n",
       "word_freq_credit                18.18\n",
       "word_freq_free                  20.00\n",
       "capital_run_length_longest    9989.00\n",
       "is_spam                          1.00\n",
       "dtype: float64"
      ]
     },
     "execution_count": 9,
     "metadata": {},
     "output_type": "execute_result"
    }
   ],
   "source": [
    "spam_train_predictors.max()"
   ]
  },
  {
   "cell_type": "code",
   "execution_count": 22,
   "id": "417e6eba-c414-43cd-9384-ea43ceb4f857",
   "metadata": {},
   "outputs": [],
   "source": [
    "# set outlier to mean \n",
    "spam_train_predictors.loc[\n",
    "    spam_train_predictors[\"capital_run_length_longest\"] == spam_train_predictors[\"capital_run_length_longest\"].max(), \n",
    "    \"capital_run_length_longest\"] = spam_train_predictors[\"capital_run_length_longest\"].mean()"
   ]
  },
  {
   "cell_type": "markdown",
   "id": "24ffdb79-f0e9-408f-9e04-e21e44e25ce4",
   "metadata": {},
   "source": [
    "#### Visualization of Predictor Variables \n",
    "Using scatter plots, we visualize the relationship between non-spam and spam mail and the predictor variables we chose.\n",
    "\n",
    "There are many data points densely packed together, so we will only sample a subset of them to avoid overplotting\n",
    "\n",
    "We will plot the word frequencies of \"000\" vs. \"credit\" as well as the word frequency of \"free\" vs. longest capital run length. In the plot, we will identify the points by spam and non-spam with a different colour and shape : "
   ]
  },
  {
   "cell_type": "code",
   "execution_count": 11,
   "id": "41dfa6a9-8b84-4f7a-b43d-3643b364e939",
   "metadata": {
    "tags": []
   },
   "outputs": [],
   "source": [
    "# !{sys.executable} -m pip install check-jsonschema"
   ]
  },
  {
   "cell_type": "markdown",
   "id": "5005d1ad-d88b-49a9-93db-7e7045f5bb22",
   "metadata": {},
   "source": [
    "Unfortunately, we have experienced issues with the schema validation when applying and shape or color encoding to the plot. It seems to be an issue within vega-lite that's part of the altair package. We've tried looking for help on [GitHub issues](https://github.com/altair-viz/altair/issues/2794), but to no avail"
   ]
  },
  {
   "cell_type": "code",
   "execution_count": 21,
   "id": "96d67fa5-645c-444b-ad69-68d3c7626f2a",
   "metadata": {},
   "outputs": [
    {
     "data": {
      "text/html": [
       "\n",
       "<div id=\"altair-viz-d16ca873601144ea84171eab5f9d08ad\"></div>\n",
       "<script type=\"text/javascript\">\n",
       "  var VEGA_DEBUG = (typeof VEGA_DEBUG == \"undefined\") ? {} : VEGA_DEBUG;\n",
       "  (function(spec, embedOpt){\n",
       "    let outputDiv = document.currentScript.previousElementSibling;\n",
       "    if (outputDiv.id !== \"altair-viz-d16ca873601144ea84171eab5f9d08ad\") {\n",
       "      outputDiv = document.getElementById(\"altair-viz-d16ca873601144ea84171eab5f9d08ad\");\n",
       "    }\n",
       "    const paths = {\n",
       "      \"vega\": \"https://cdn.jsdelivr.net/npm//vega@5?noext\",\n",
       "      \"vega-lib\": \"https://cdn.jsdelivr.net/npm//vega-lib?noext\",\n",
       "      \"vega-lite\": \"https://cdn.jsdelivr.net/npm//vega-lite@4.17.0?noext\",\n",
       "      \"vega-embed\": \"https://cdn.jsdelivr.net/npm//vega-embed@6?noext\",\n",
       "    };\n",
       "\n",
       "    function maybeLoadScript(lib, version) {\n",
       "      var key = `${lib.replace(\"-\", \"\")}_version`;\n",
       "      return (VEGA_DEBUG[key] == version) ?\n",
       "        Promise.resolve(paths[lib]) :\n",
       "        new Promise(function(resolve, reject) {\n",
       "          var s = document.createElement('script');\n",
       "          document.getElementsByTagName(\"head\")[0].appendChild(s);\n",
       "          s.async = true;\n",
       "          s.onload = () => {\n",
       "            VEGA_DEBUG[key] = version;\n",
       "            return resolve(paths[lib]);\n",
       "          };\n",
       "          s.onerror = () => reject(`Error loading script: ${paths[lib]}`);\n",
       "          s.src = paths[lib];\n",
       "        });\n",
       "    }\n",
       "\n",
       "    function showError(err) {\n",
       "      outputDiv.innerHTML = `<div class=\"error\" style=\"color:red;\">${err}</div>`;\n",
       "      throw err;\n",
       "    }\n",
       "\n",
       "    function displayChart(vegaEmbed) {\n",
       "      vegaEmbed(outputDiv, spec, embedOpt)\n",
       "        .catch(err => showError(`Javascript Error: ${err.message}<br>This usually means there's a typo in your chart specification. See the javascript console for the full traceback.`));\n",
       "    }\n",
       "\n",
       "    if(typeof define === \"function\" && define.amd) {\n",
       "      requirejs.config({paths});\n",
       "      require([\"vega-embed\"], displayChart, err => showError(`Error loading script: ${err.message}`));\n",
       "    } else {\n",
       "      maybeLoadScript(\"vega\", \"5\")\n",
       "        .then(() => maybeLoadScript(\"vega-lite\", \"4.17.0\"))\n",
       "        .then(() => maybeLoadScript(\"vega-embed\", \"6\"))\n",
       "        .catch(showError)\n",
       "        .then(() => displayChart(vegaEmbed));\n",
       "    }\n",
       "  })({\"config\": {\"view\": {\"continuousWidth\": 400, \"continuousHeight\": 300}}, \"data\": {\"name\": \"data-a2f2d510fc7e8c1f650b1dfe4d19d77e\"}, \"mark\": {\"type\": \"point\", \"opacity\": 0.5}, \"encoding\": {\"x\": {\"field\": \"word_freq_free\", \"title\": \"Frequency of 'free'\", \"type\": \"quantitative\"}, \"y\": {\"field\": \"capital_run_length_longest\", \"title\": \"Capital Run Length\", \"type\": \"quantitative\"}}, \"title\": \"Word Frequency of 'free' vs. Capital Run Length\", \"$schema\": \"https://vega.github.io/schema/vega-lite/v4.17.0.json\", \"datasets\": {\"data-a2f2d510fc7e8c1f650b1dfe4d19d77e\": [{\"word_freq_000\": 0.0, \"word_freq_credit\": 0.0, \"word_freq_free\": 0.0, \"capital_run_length_longest\": 1.0, \"is_spam\": 0}, {\"word_freq_000\": 0.0, \"word_freq_credit\": 0.0, \"word_freq_free\": 0.0, \"capital_run_length_longest\": 5.0, \"is_spam\": 1}, {\"word_freq_000\": 0.0, \"word_freq_credit\": 0.0, \"word_freq_free\": 0.0, \"capital_run_length_longest\": 1.0, \"is_spam\": 1}, {\"word_freq_000\": 0.0, \"word_freq_credit\": 0.0, \"word_freq_free\": 0.0, \"capital_run_length_longest\": 9.0, \"is_spam\": 0}, {\"word_freq_000\": 0.0, \"word_freq_credit\": 0.0, \"word_freq_free\": 0.0, \"capital_run_length_longest\": 3.0, \"is_spam\": 0}, {\"word_freq_000\": 0.59, \"word_freq_credit\": 0.35, \"word_freq_free\": 2.13, \"capital_run_length_longest\": 283.0, \"is_spam\": 1}, {\"word_freq_000\": 0.0, \"word_freq_credit\": 0.0, \"word_freq_free\": 0.0, \"capital_run_length_longest\": 19.0, \"is_spam\": 0}, {\"word_freq_000\": 0.0, \"word_freq_credit\": 0.0, \"word_freq_free\": 0.0, \"capital_run_length_longest\": 12.0, \"is_spam\": 0}, {\"word_freq_000\": 0.0, \"word_freq_credit\": 0.0, \"word_freq_free\": 0.0, \"capital_run_length_longest\": 11.0, \"is_spam\": 0}, {\"word_freq_000\": 0.0, \"word_freq_credit\": 0.0, \"word_freq_free\": 0.0, \"capital_run_length_longest\": 14.0, \"is_spam\": 0}, {\"word_freq_000\": 0.0, \"word_freq_credit\": 0.0, \"word_freq_free\": 0.0, \"capital_run_length_longest\": 30.0, \"is_spam\": 0}, {\"word_freq_000\": 0.0, \"word_freq_credit\": 0.0, \"word_freq_free\": 0.0, \"capital_run_length_longest\": 23.0, \"is_spam\": 0}, {\"word_freq_000\": 2.85, \"word_freq_credit\": 0.0, \"word_freq_free\": 0.0, \"capital_run_length_longest\": 32.0, \"is_spam\": 1}, {\"word_freq_000\": 0.0, \"word_freq_credit\": 0.0, \"word_freq_free\": 0.0, \"capital_run_length_longest\": 10.0, \"is_spam\": 0}, {\"word_freq_000\": 0.0, \"word_freq_credit\": 0.0, \"word_freq_free\": 0.45, \"capital_run_length_longest\": 708.0, \"is_spam\": 1}, {\"word_freq_000\": 0.0, \"word_freq_credit\": 0.0, \"word_freq_free\": 0.0, \"capital_run_length_longest\": 1.0, \"is_spam\": 0}, {\"word_freq_000\": 0.0, \"word_freq_credit\": 0.0, \"word_freq_free\": 0.0, \"capital_run_length_longest\": 51.0, \"is_spam\": 0}, {\"word_freq_000\": 0.0, \"word_freq_credit\": 0.0, \"word_freq_free\": 2.94, \"capital_run_length_longest\": 272.0, \"is_spam\": 1}, {\"word_freq_000\": 0.0, \"word_freq_credit\": 0.0, \"word_freq_free\": 0.55, \"capital_run_length_longest\": 140.0, \"is_spam\": 1}, {\"word_freq_000\": 0.0, \"word_freq_credit\": 2.82, \"word_freq_free\": 0.7, \"capital_run_length_longest\": 21.0, \"is_spam\": 1}, {\"word_freq_000\": 0.0, \"word_freq_credit\": 0.0, \"word_freq_free\": 0.0, \"capital_run_length_longest\": 7.0, \"is_spam\": 0}, {\"word_freq_000\": 0.0, \"word_freq_credit\": 0.0, \"word_freq_free\": 0.0, \"capital_run_length_longest\": 1.0, \"is_spam\": 0}, {\"word_freq_000\": 0.0, \"word_freq_credit\": 1.0, \"word_freq_free\": 0.33, \"capital_run_length_longest\": 14.0, \"is_spam\": 1}, {\"word_freq_000\": 0.0, \"word_freq_credit\": 0.0, \"word_freq_free\": 0.0, \"capital_run_length_longest\": 13.0, \"is_spam\": 0}, {\"word_freq_000\": 0.0, \"word_freq_credit\": 0.0, \"word_freq_free\": 0.0, \"capital_run_length_longest\": 10.0, \"is_spam\": 0}, {\"word_freq_000\": 0.0, \"word_freq_credit\": 1.6, \"word_freq_free\": 0.0, \"capital_run_length_longest\": 29.0, \"is_spam\": 0}, {\"word_freq_000\": 0.0, \"word_freq_credit\": 0.0, \"word_freq_free\": 0.0, \"capital_run_length_longest\": 200.0, \"is_spam\": 0}, {\"word_freq_000\": 0.0, \"word_freq_credit\": 0.47, \"word_freq_free\": 0.47, \"capital_run_length_longest\": 54.0, \"is_spam\": 1}, {\"word_freq_000\": 0.0, \"word_freq_credit\": 0.0, \"word_freq_free\": 0.0, \"capital_run_length_longest\": 17.0, \"is_spam\": 0}, {\"word_freq_000\": 0.0, \"word_freq_credit\": 0.0, \"word_freq_free\": 0.0, \"capital_run_length_longest\": 10.0, \"is_spam\": 0}, {\"word_freq_000\": 0.0, \"word_freq_credit\": 0.0, \"word_freq_free\": 0.0, \"capital_run_length_longest\": 6.0, \"is_spam\": 0}, {\"word_freq_000\": 0.0, \"word_freq_credit\": 0.0, \"word_freq_free\": 0.0, \"capital_run_length_longest\": 15.0, \"is_spam\": 0}, {\"word_freq_000\": 0.0, \"word_freq_credit\": 0.0, \"word_freq_free\": 0.0, \"capital_run_length_longest\": 50.0, \"is_spam\": 0}, {\"word_freq_000\": 0.0, \"word_freq_credit\": 0.0, \"word_freq_free\": 1.41, \"capital_run_length_longest\": 44.0, \"is_spam\": 1}, {\"word_freq_000\": 0.0, \"word_freq_credit\": 0.0, \"word_freq_free\": 1.23, \"capital_run_length_longest\": 12.0, \"is_spam\": 0}, {\"word_freq_000\": 0.0, \"word_freq_credit\": 0.0, \"word_freq_free\": 0.0, \"capital_run_length_longest\": 20.0, \"is_spam\": 0}, {\"word_freq_000\": 0.0, \"word_freq_credit\": 0.0, \"word_freq_free\": 0.0, \"capital_run_length_longest\": 2.0, \"is_spam\": 0}, {\"word_freq_000\": 0.0, \"word_freq_credit\": 0.0, \"word_freq_free\": 1.0, \"capital_run_length_longest\": 11.0, \"is_spam\": 0}, {\"word_freq_000\": 0.0, \"word_freq_credit\": 0.0, \"word_freq_free\": 0.0, \"capital_run_length_longest\": 32.0, \"is_spam\": 0}, {\"word_freq_000\": 0.0, \"word_freq_credit\": 0.0, \"word_freq_free\": 0.0, \"capital_run_length_longest\": 13.0, \"is_spam\": 0}, {\"word_freq_000\": 0.0, \"word_freq_credit\": 0.0, \"word_freq_free\": 0.0, \"capital_run_length_longest\": 4.0, \"is_spam\": 0}, {\"word_freq_000\": 0.0, \"word_freq_credit\": 0.0, \"word_freq_free\": 0.0, \"capital_run_length_longest\": 38.0, \"is_spam\": 0}, {\"word_freq_000\": 0.0, \"word_freq_credit\": 0.0, \"word_freq_free\": 0.0, \"capital_run_length_longest\": 1.0, \"is_spam\": 0}, {\"word_freq_000\": 0.0, \"word_freq_credit\": 0.0, \"word_freq_free\": 0.0, \"capital_run_length_longest\": 64.0, \"is_spam\": 1}, {\"word_freq_000\": 0.0, \"word_freq_credit\": 0.0, \"word_freq_free\": 0.0, \"capital_run_length_longest\": 34.0, \"is_spam\": 0}, {\"word_freq_000\": 0.0, \"word_freq_credit\": 0.0, \"word_freq_free\": 0.0, \"capital_run_length_longest\": 4.0, \"is_spam\": 0}, {\"word_freq_000\": 0.0, \"word_freq_credit\": 0.0, \"word_freq_free\": 0.0, \"capital_run_length_longest\": 13.0, \"is_spam\": 0}, {\"word_freq_000\": 0.0, \"word_freq_credit\": 0.0, \"word_freq_free\": 0.0, \"capital_run_length_longest\": 98.0, \"is_spam\": 0}, {\"word_freq_000\": 0.0, \"word_freq_credit\": 0.0, \"word_freq_free\": 0.0, \"capital_run_length_longest\": 6.0, \"is_spam\": 1}, {\"word_freq_000\": 0.0, \"word_freq_credit\": 0.0, \"word_freq_free\": 0.0, \"capital_run_length_longest\": 12.0, \"is_spam\": 0}, {\"word_freq_000\": 0.0, \"word_freq_credit\": 0.0, \"word_freq_free\": 0.0, \"capital_run_length_longest\": 11.0, \"is_spam\": 0}, {\"word_freq_000\": 0.0, \"word_freq_credit\": 0.0, \"word_freq_free\": 0.0, \"capital_run_length_longest\": 3.0, \"is_spam\": 0}, {\"word_freq_000\": 0.0, \"word_freq_credit\": 0.0, \"word_freq_free\": 0.0, \"capital_run_length_longest\": 15.0, \"is_spam\": 0}, {\"word_freq_000\": 0.0, \"word_freq_credit\": 0.0, \"word_freq_free\": 0.0, \"capital_run_length_longest\": 1.0, \"is_spam\": 0}, {\"word_freq_000\": 0.0, \"word_freq_credit\": 0.0, \"word_freq_free\": 0.0, \"capital_run_length_longest\": 7.0, \"is_spam\": 0}, {\"word_freq_000\": 0.0, \"word_freq_credit\": 0.0, \"word_freq_free\": 1.07, \"capital_run_length_longest\": 21.0, \"is_spam\": 0}, {\"word_freq_000\": 0.0, \"word_freq_credit\": 0.0, \"word_freq_free\": 0.0, \"capital_run_length_longest\": 7.0, \"is_spam\": 0}, {\"word_freq_000\": 0.0, \"word_freq_credit\": 0.0, \"word_freq_free\": 0.0, \"capital_run_length_longest\": 15.0, \"is_spam\": 0}, {\"word_freq_000\": 0.0, \"word_freq_credit\": 0.0, \"word_freq_free\": 0.0, \"capital_run_length_longest\": 16.0, \"is_spam\": 0}, {\"word_freq_000\": 0.0, \"word_freq_credit\": 0.0, \"word_freq_free\": 0.0, \"capital_run_length_longest\": 21.0, \"is_spam\": 0}, {\"word_freq_000\": 0.11, \"word_freq_credit\": 0.0, \"word_freq_free\": 0.0, \"capital_run_length_longest\": 28.0, \"is_spam\": 0}, {\"word_freq_000\": 0.0, \"word_freq_credit\": 0.0, \"word_freq_free\": 0.0, \"capital_run_length_longest\": 4.0, \"is_spam\": 0}, {\"word_freq_000\": 0.0, \"word_freq_credit\": 0.0, \"word_freq_free\": 0.0, \"capital_run_length_longest\": 11.0, \"is_spam\": 0}, {\"word_freq_000\": 1.35, \"word_freq_credit\": 1.15, \"word_freq_free\": 0.19, \"capital_run_length_longest\": 525.0, \"is_spam\": 1}, {\"word_freq_000\": 0.0, \"word_freq_credit\": 0.0, \"word_freq_free\": 0.0, \"capital_run_length_longest\": 65.0, \"is_spam\": 1}, {\"word_freq_000\": 0.0, \"word_freq_credit\": 0.0, \"word_freq_free\": 0.0, \"capital_run_length_longest\": 1.0, \"is_spam\": 1}, {\"word_freq_000\": 0.0, \"word_freq_credit\": 0.0, \"word_freq_free\": 0.0, \"capital_run_length_longest\": 11.0, \"is_spam\": 0}, {\"word_freq_000\": 0.0, \"word_freq_credit\": 0.0, \"word_freq_free\": 0.0, \"capital_run_length_longest\": 8.0, \"is_spam\": 0}, {\"word_freq_000\": 0.13, \"word_freq_credit\": 0.26, \"word_freq_free\": 0.26, \"capital_run_length_longest\": 107.0, \"is_spam\": 1}, {\"word_freq_000\": 0.0, \"word_freq_credit\": 0.0, \"word_freq_free\": 0.0, \"capital_run_length_longest\": 1.0, \"is_spam\": 0}, {\"word_freq_000\": 0.0, \"word_freq_credit\": 0.0, \"word_freq_free\": 0.0, \"capital_run_length_longest\": 11.0, \"is_spam\": 0}, {\"word_freq_000\": 0.42, \"word_freq_credit\": 0.33, \"word_freq_free\": 1.6, \"capital_run_length_longest\": 292.0, \"is_spam\": 1}, {\"word_freq_000\": 0.0, \"word_freq_credit\": 0.0, \"word_freq_free\": 0.0, \"capital_run_length_longest\": 6.0, \"is_spam\": 1}, {\"word_freq_000\": 0.0, \"word_freq_credit\": 0.0, \"word_freq_free\": 0.0, \"capital_run_length_longest\": 3.0, \"is_spam\": 0}, {\"word_freq_000\": 0.0, \"word_freq_credit\": 0.0, \"word_freq_free\": 0.0, \"capital_run_length_longest\": 28.0, \"is_spam\": 1}, {\"word_freq_000\": 0.76, \"word_freq_credit\": 0.23, \"word_freq_free\": 0.0, \"capital_run_length_longest\": 12.0, \"is_spam\": 1}, {\"word_freq_000\": 0.5, \"word_freq_credit\": 0.0, \"word_freq_free\": 0.21, \"capital_run_length_longest\": 798.0, \"is_spam\": 1}, {\"word_freq_000\": 0.0, \"word_freq_credit\": 0.0, \"word_freq_free\": 0.0, \"capital_run_length_longest\": 4.0, \"is_spam\": 0}, {\"word_freq_000\": 0.0, \"word_freq_credit\": 0.0, \"word_freq_free\": 0.0, \"capital_run_length_longest\": 5.0, \"is_spam\": 0}, {\"word_freq_000\": 2.0, \"word_freq_credit\": 0.0, \"word_freq_free\": 0.33, \"capital_run_length_longest\": 82.0, \"is_spam\": 1}, {\"word_freq_000\": 0.0, \"word_freq_credit\": 0.0, \"word_freq_free\": 0.0, \"capital_run_length_longest\": 28.0, \"is_spam\": 0}, {\"word_freq_000\": 0.0, \"word_freq_credit\": 0.0, \"word_freq_free\": 0.0, \"capital_run_length_longest\": 1.0, \"is_spam\": 0}, {\"word_freq_000\": 0.0, \"word_freq_credit\": 0.0, \"word_freq_free\": 0.0, \"capital_run_length_longest\": 14.0, \"is_spam\": 0}, {\"word_freq_000\": 0.0, \"word_freq_credit\": 0.0, \"word_freq_free\": 0.0, \"capital_run_length_longest\": 16.0, \"is_spam\": 0}, {\"word_freq_000\": 0.0, \"word_freq_credit\": 3.8, \"word_freq_free\": 0.0, \"capital_run_length_longest\": 6.0, \"is_spam\": 1}, {\"word_freq_000\": 1.38, \"word_freq_credit\": 0.0, \"word_freq_free\": 0.0, \"capital_run_length_longest\": 12.0, \"is_spam\": 1}, {\"word_freq_000\": 0.0, \"word_freq_credit\": 0.0, \"word_freq_free\": 0.37, \"capital_run_length_longest\": 113.0, \"is_spam\": 1}, {\"word_freq_000\": 0.0, \"word_freq_credit\": 0.0, \"word_freq_free\": 0.0, \"capital_run_length_longest\": 10.0, \"is_spam\": 0}, {\"word_freq_000\": 0.1, \"word_freq_credit\": 0.03, \"word_freq_free\": 0.17, \"capital_run_length_longest\": 46.0, \"is_spam\": 1}, {\"word_freq_000\": 0.29, \"word_freq_credit\": 0.14, \"word_freq_free\": 0.54, \"capital_run_length_longest\": 181.0, \"is_spam\": 1}, {\"word_freq_000\": 0.0, \"word_freq_credit\": 0.09, \"word_freq_free\": 0.0, \"capital_run_length_longest\": 54.0, \"is_spam\": 1}, {\"word_freq_000\": 0.0, \"word_freq_credit\": 0.0, \"word_freq_free\": 0.0, \"capital_run_length_longest\": 21.0, \"is_spam\": 0}, {\"word_freq_000\": 0.0, \"word_freq_credit\": 0.0, \"word_freq_free\": 0.0, \"capital_run_length_longest\": 11.0, \"is_spam\": 0}, {\"word_freq_000\": 0.0, \"word_freq_credit\": 0.0, \"word_freq_free\": 0.0, \"capital_run_length_longest\": 168.0, \"is_spam\": 1}, {\"word_freq_000\": 0.0, \"word_freq_credit\": 0.0, \"word_freq_free\": 0.0, \"capital_run_length_longest\": 14.0, \"is_spam\": 0}, {\"word_freq_000\": 0.21, \"word_freq_credit\": 0.0, \"word_freq_free\": 0.38, \"capital_run_length_longest\": 56.0, \"is_spam\": 1}, {\"word_freq_000\": 0.0, \"word_freq_credit\": 0.0, \"word_freq_free\": 0.0, \"capital_run_length_longest\": 1.0, \"is_spam\": 0}, {\"word_freq_000\": 0.0, \"word_freq_credit\": 0.0, \"word_freq_free\": 0.0, \"capital_run_length_longest\": 13.0, \"is_spam\": 0}, {\"word_freq_000\": 0.0, \"word_freq_credit\": 0.0, \"word_freq_free\": 1.63, \"capital_run_length_longest\": 16.0, \"is_spam\": 1}, {\"word_freq_000\": 0.0, \"word_freq_credit\": 0.0, \"word_freq_free\": 0.0, \"capital_run_length_longest\": 14.0, \"is_spam\": 1}, {\"word_freq_000\": 0.38, \"word_freq_credit\": 0.0, \"word_freq_free\": 0.38, \"capital_run_length_longest\": 78.0, \"is_spam\": 1}, {\"word_freq_000\": 0.12, \"word_freq_credit\": 0.0, \"word_freq_free\": 0.0, \"capital_run_length_longest\": 25.0, \"is_spam\": 0}, {\"word_freq_000\": 0.0, \"word_freq_credit\": 0.0, \"word_freq_free\": 0.0, \"capital_run_length_longest\": 78.0, \"is_spam\": 0}, {\"word_freq_000\": 0.0, \"word_freq_credit\": 0.0, \"word_freq_free\": 0.0, \"capital_run_length_longest\": 5.0, \"is_spam\": 0}, {\"word_freq_000\": 0.0, \"word_freq_credit\": 0.0, \"word_freq_free\": 0.0, \"capital_run_length_longest\": 13.0, \"is_spam\": 0}, {\"word_freq_000\": 0.0, \"word_freq_credit\": 0.0, \"word_freq_free\": 0.0, \"capital_run_length_longest\": 12.0, \"is_spam\": 0}, {\"word_freq_000\": 0.0, \"word_freq_credit\": 0.0, \"word_freq_free\": 0.0, \"capital_run_length_longest\": 11.0, \"is_spam\": 0}, {\"word_freq_000\": 0.0, \"word_freq_credit\": 0.0, \"word_freq_free\": 0.0, \"capital_run_length_longest\": 22.0, \"is_spam\": 0}, {\"word_freq_000\": 0.0, \"word_freq_credit\": 0.0, \"word_freq_free\": 0.0, \"capital_run_length_longest\": 8.0, \"is_spam\": 0}, {\"word_freq_000\": 0.0, \"word_freq_credit\": 0.0, \"word_freq_free\": 0.0, \"capital_run_length_longest\": 7.0, \"is_spam\": 0}, {\"word_freq_000\": 0.0, \"word_freq_credit\": 1.47, \"word_freq_free\": 0.0, \"capital_run_length_longest\": 281.0, \"is_spam\": 1}, {\"word_freq_000\": 0.0, \"word_freq_credit\": 0.0, \"word_freq_free\": 0.0, \"capital_run_length_longest\": 1.0, \"is_spam\": 0}, {\"word_freq_000\": 0.0, \"word_freq_credit\": 0.0, \"word_freq_free\": 1.54, \"capital_run_length_longest\": 56.0, \"is_spam\": 1}, {\"word_freq_000\": 0.0, \"word_freq_credit\": 0.0, \"word_freq_free\": 0.0, \"capital_run_length_longest\": 6.0, \"is_spam\": 0}, {\"word_freq_000\": 0.0, \"word_freq_credit\": 0.0, \"word_freq_free\": 0.0, \"capital_run_length_longest\": 11.0, \"is_spam\": 0}, {\"word_freq_000\": 0.0, \"word_freq_credit\": 0.0, \"word_freq_free\": 0.0, \"capital_run_length_longest\": 4.0, \"is_spam\": 0}, {\"word_freq_000\": 0.0, \"word_freq_credit\": 0.0, \"word_freq_free\": 0.0, \"capital_run_length_longest\": 1.0, \"is_spam\": 0}, {\"word_freq_000\": 0.0, \"word_freq_credit\": 0.0, \"word_freq_free\": 1.36, \"capital_run_length_longest\": 12.0, \"is_spam\": 1}, {\"word_freq_000\": 1.85, \"word_freq_credit\": 0.0, \"word_freq_free\": 0.0, \"capital_run_length_longest\": 16.0, \"is_spam\": 1}, {\"word_freq_000\": 0.0, \"word_freq_credit\": 0.0, \"word_freq_free\": 0.0, \"capital_run_length_longest\": 43.0, \"is_spam\": 0}, {\"word_freq_000\": 0.85, \"word_freq_credit\": 0.17, \"word_freq_free\": 0.25, \"capital_run_length_longest\": 669.0, \"is_spam\": 1}, {\"word_freq_000\": 0.0, \"word_freq_credit\": 0.0, \"word_freq_free\": 0.0, \"capital_run_length_longest\": 10.0, \"is_spam\": 0}, {\"word_freq_000\": 0.0, \"word_freq_credit\": 0.0, \"word_freq_free\": 0.0, \"capital_run_length_longest\": 4.0, \"is_spam\": 0}, {\"word_freq_000\": 0.0, \"word_freq_credit\": 2.31, \"word_freq_free\": 0.57, \"capital_run_length_longest\": 489.0, \"is_spam\": 1}, {\"word_freq_000\": 0.0, \"word_freq_credit\": 0.0, \"word_freq_free\": 0.0, \"capital_run_length_longest\": 19.0, \"is_spam\": 1}, {\"word_freq_000\": 0.0, \"word_freq_credit\": 0.0, \"word_freq_free\": 0.0, \"capital_run_length_longest\": 23.0, \"is_spam\": 0}, {\"word_freq_000\": 0.0, \"word_freq_credit\": 0.0, \"word_freq_free\": 0.0, \"capital_run_length_longest\": 22.0, \"is_spam\": 0}, {\"word_freq_000\": 0.0, \"word_freq_credit\": 0.0, \"word_freq_free\": 0.0, \"capital_run_length_longest\": 76.0, \"is_spam\": 0}, {\"word_freq_000\": 0.0, \"word_freq_credit\": 0.0, \"word_freq_free\": 0.51, \"capital_run_length_longest\": 15.0, \"is_spam\": 0}, {\"word_freq_000\": 0.0, \"word_freq_credit\": 0.47, \"word_freq_free\": 0.47, \"capital_run_length_longest\": 54.0, \"is_spam\": 1}, {\"word_freq_000\": 0.0, \"word_freq_credit\": 0.0, \"word_freq_free\": 2.16, \"capital_run_length_longest\": 41.0, \"is_spam\": 1}, {\"word_freq_000\": 0.22, \"word_freq_credit\": 0.0, \"word_freq_free\": 0.22, \"capital_run_length_longest\": 75.0, \"is_spam\": 1}, {\"word_freq_000\": 0.0, \"word_freq_credit\": 0.0, \"word_freq_free\": 0.0, \"capital_run_length_longest\": 1.0, \"is_spam\": 0}, {\"word_freq_000\": 0.0, \"word_freq_credit\": 0.0, \"word_freq_free\": 0.66, \"capital_run_length_longest\": 31.0, \"is_spam\": 1}, {\"word_freq_000\": 0.0, \"word_freq_credit\": 0.0, \"word_freq_free\": 0.0, \"capital_run_length_longest\": 15.0, \"is_spam\": 1}, {\"word_freq_000\": 0.45, \"word_freq_credit\": 0.0, \"word_freq_free\": 0.0, \"capital_run_length_longest\": 12.0, \"is_spam\": 1}, {\"word_freq_000\": 0.0, \"word_freq_credit\": 0.0, \"word_freq_free\": 0.5, \"capital_run_length_longest\": 12.0, \"is_spam\": 0}, {\"word_freq_000\": 0.0, \"word_freq_credit\": 0.0, \"word_freq_free\": 0.0, \"capital_run_length_longest\": 10.0, \"is_spam\": 0}, {\"word_freq_000\": 0.0, \"word_freq_credit\": 0.0, \"word_freq_free\": 0.0, \"capital_run_length_longest\": 10.0, \"is_spam\": 0}, {\"word_freq_000\": 0.0, \"word_freq_credit\": 0.0, \"word_freq_free\": 0.0, \"capital_run_length_longest\": 1.0, \"is_spam\": 0}, {\"word_freq_000\": 0.0, \"word_freq_credit\": 0.0, \"word_freq_free\": 0.0, \"capital_run_length_longest\": 5.0, \"is_spam\": 0}, {\"word_freq_000\": 0.0, \"word_freq_credit\": 0.0, \"word_freq_free\": 0.11, \"capital_run_length_longest\": 63.0, \"is_spam\": 0}, {\"word_freq_000\": 0.0, \"word_freq_credit\": 0.0, \"word_freq_free\": 0.54, \"capital_run_length_longest\": 14.0, \"is_spam\": 0}, {\"word_freq_000\": 0.0, \"word_freq_credit\": 0.0, \"word_freq_free\": 0.0, \"capital_run_length_longest\": 15.0, \"is_spam\": 0}, {\"word_freq_000\": 0.0, \"word_freq_credit\": 0.0, \"word_freq_free\": 0.6, \"capital_run_length_longest\": 33.0, \"is_spam\": 0}, {\"word_freq_000\": 0.0, \"word_freq_credit\": 0.98, \"word_freq_free\": 1.96, \"capital_run_length_longest\": 7.0, \"is_spam\": 1}, {\"word_freq_000\": 0.0, \"word_freq_credit\": 0.0, \"word_freq_free\": 0.0, \"capital_run_length_longest\": 7.0, \"is_spam\": 0}, {\"word_freq_000\": 0.0, \"word_freq_credit\": 0.0, \"word_freq_free\": 0.0, \"capital_run_length_longest\": 1.0, \"is_spam\": 0}, {\"word_freq_000\": 0.22, \"word_freq_credit\": 1.57, \"word_freq_free\": 0.45, \"capital_run_length_longest\": 102.0, \"is_spam\": 1}, {\"word_freq_000\": 0.0, \"word_freq_credit\": 0.0, \"word_freq_free\": 0.0, \"capital_run_length_longest\": 1.0, \"is_spam\": 0}, {\"word_freq_000\": 0.0, \"word_freq_credit\": 0.0, \"word_freq_free\": 0.0, \"capital_run_length_longest\": 6.0, \"is_spam\": 0}, {\"word_freq_000\": 0.0, \"word_freq_credit\": 0.0, \"word_freq_free\": 0.92, \"capital_run_length_longest\": 38.0, \"is_spam\": 1}, {\"word_freq_000\": 0.0, \"word_freq_credit\": 0.0, \"word_freq_free\": 0.0, \"capital_run_length_longest\": 4.0, \"is_spam\": 0}, {\"word_freq_000\": 0.0, \"word_freq_credit\": 0.0, \"word_freq_free\": 0.0, \"capital_run_length_longest\": 40.0, \"is_spam\": 0}, {\"word_freq_000\": 0.0, \"word_freq_credit\": 0.0, \"word_freq_free\": 0.0, \"capital_run_length_longest\": 19.0, \"is_spam\": 0}, {\"word_freq_000\": 0.0, \"word_freq_credit\": 0.0, \"word_freq_free\": 0.0, \"capital_run_length_longest\": 2.0, \"is_spam\": 0}, {\"word_freq_000\": 0.0, \"word_freq_credit\": 0.0, \"word_freq_free\": 0.16, \"capital_run_length_longest\": 47.0, \"is_spam\": 0}, {\"word_freq_000\": 0.0, \"word_freq_credit\": 0.0, \"word_freq_free\": 0.0, \"capital_run_length_longest\": 31.0, \"is_spam\": 0}, {\"word_freq_000\": 0.28, \"word_freq_credit\": 0.0, \"word_freq_free\": 0.84, \"capital_run_length_longest\": 104.0, \"is_spam\": 1}, {\"word_freq_000\": 0.0, \"word_freq_credit\": 0.0, \"word_freq_free\": 0.32, \"capital_run_length_longest\": 10.0, \"is_spam\": 1}, {\"word_freq_000\": 0.68, \"word_freq_credit\": 0.0, \"word_freq_free\": 0.0, \"capital_run_length_longest\": 19.0, \"is_spam\": 1}, {\"word_freq_000\": 0.0, \"word_freq_credit\": 0.0, \"word_freq_free\": 0.0, \"capital_run_length_longest\": 1.0, \"is_spam\": 0}, {\"word_freq_000\": 0.0, \"word_freq_credit\": 0.0, \"word_freq_free\": 2.47, \"capital_run_length_longest\": 226.0, \"is_spam\": 1}, {\"word_freq_000\": 0.48, \"word_freq_credit\": 0.12, \"word_freq_free\": 0.12, \"capital_run_length_longest\": 39.0, \"is_spam\": 1}, {\"word_freq_000\": 0.0, \"word_freq_credit\": 0.0, \"word_freq_free\": 0.0, \"capital_run_length_longest\": 7.0, \"is_spam\": 0}, {\"word_freq_000\": 0.0, \"word_freq_credit\": 0.0, \"word_freq_free\": 0.0, \"capital_run_length_longest\": 2.0, \"is_spam\": 0}, {\"word_freq_000\": 0.0, \"word_freq_credit\": 0.0, \"word_freq_free\": 0.0, \"capital_run_length_longest\": 85.0, \"is_spam\": 0}, {\"word_freq_000\": 0.0, \"word_freq_credit\": 0.0, \"word_freq_free\": 0.0, \"capital_run_length_longest\": 2.0, \"is_spam\": 0}, {\"word_freq_000\": 0.0, \"word_freq_credit\": 0.0, \"word_freq_free\": 0.93, \"capital_run_length_longest\": 15.0, \"is_spam\": 0}, {\"word_freq_000\": 0.08, \"word_freq_credit\": 0.26, \"word_freq_free\": 0.88, \"capital_run_length_longest\": 54.0, \"is_spam\": 1}, {\"word_freq_000\": 2.2, \"word_freq_credit\": 0.0, \"word_freq_free\": 0.0, \"capital_run_length_longest\": 16.0, \"is_spam\": 1}, {\"word_freq_000\": 0.0, \"word_freq_credit\": 0.0, \"word_freq_free\": 0.35, \"capital_run_length_longest\": 5.0, \"is_spam\": 0}, {\"word_freq_000\": 0.0, \"word_freq_credit\": 0.0, \"word_freq_free\": 0.47, \"capital_run_length_longest\": 634.0, \"is_spam\": 1}, {\"word_freq_000\": 0.0, \"word_freq_credit\": 0.0, \"word_freq_free\": 0.0, \"capital_run_length_longest\": 13.0, \"is_spam\": 0}, {\"word_freq_000\": 0.0, \"word_freq_credit\": 0.0, \"word_freq_free\": 0.0, \"capital_run_length_longest\": 4.0, \"is_spam\": 0}, {\"word_freq_000\": 0.0, \"word_freq_credit\": 0.0, \"word_freq_free\": 0.0, \"capital_run_length_longest\": 9.0, \"is_spam\": 0}, {\"word_freq_000\": 0.0, \"word_freq_credit\": 0.0, \"word_freq_free\": 0.36, \"capital_run_length_longest\": 59.0, \"is_spam\": 1}, {\"word_freq_000\": 0.0, \"word_freq_credit\": 0.0, \"word_freq_free\": 0.0, \"capital_run_length_longest\": 10.0, \"is_spam\": 0}, {\"word_freq_000\": 0.0, \"word_freq_credit\": 0.0, \"word_freq_free\": 1.98, \"capital_run_length_longest\": 34.0, \"is_spam\": 1}, {\"word_freq_000\": 0.0, \"word_freq_credit\": 0.0, \"word_freq_free\": 0.0, \"capital_run_length_longest\": 157.0, \"is_spam\": 0}, {\"word_freq_000\": 0.0, \"word_freq_credit\": 0.0, \"word_freq_free\": 0.32, \"capital_run_length_longest\": 10.0, \"is_spam\": 1}, {\"word_freq_000\": 0.0, \"word_freq_credit\": 0.0, \"word_freq_free\": 0.0, \"capital_run_length_longest\": 4.0, \"is_spam\": 1}, {\"word_freq_000\": 0.0, \"word_freq_credit\": 0.0, \"word_freq_free\": 0.67, \"capital_run_length_longest\": 19.0, \"is_spam\": 0}, {\"word_freq_000\": 0.0, \"word_freq_credit\": 0.0, \"word_freq_free\": 0.55, \"capital_run_length_longest\": 55.0, \"is_spam\": 0}, {\"word_freq_000\": 0.0, \"word_freq_credit\": 0.0, \"word_freq_free\": 0.0, \"capital_run_length_longest\": 9.0, \"is_spam\": 0}, {\"word_freq_000\": 0.0, \"word_freq_credit\": 0.0, \"word_freq_free\": 4.59, \"capital_run_length_longest\": 30.0, \"is_spam\": 1}, {\"word_freq_000\": 0.0, \"word_freq_credit\": 0.0, \"word_freq_free\": 0.0, \"capital_run_length_longest\": 24.0, \"is_spam\": 1}, {\"word_freq_000\": 0.0, \"word_freq_credit\": 0.0, \"word_freq_free\": 0.0, \"capital_run_length_longest\": 1.0, \"is_spam\": 0}, {\"word_freq_000\": 0.0, \"word_freq_credit\": 0.3, \"word_freq_free\": 0.0, \"capital_run_length_longest\": 63.0, \"is_spam\": 0}, {\"word_freq_000\": 0.37, \"word_freq_credit\": 0.0, \"word_freq_free\": 0.37, \"capital_run_length_longest\": 78.0, \"is_spam\": 1}, {\"word_freq_000\": 0.0, \"word_freq_credit\": 0.0, \"word_freq_free\": 0.74, \"capital_run_length_longest\": 15.0, \"is_spam\": 0}, {\"word_freq_000\": 0.0, \"word_freq_credit\": 0.0, \"word_freq_free\": 0.0, \"capital_run_length_longest\": 1.0, \"is_spam\": 0}, {\"word_freq_000\": 0.0, \"word_freq_credit\": 0.0, \"word_freq_free\": 0.0, \"capital_run_length_longest\": 10.0, \"is_spam\": 0}, {\"word_freq_000\": 0.0, \"word_freq_credit\": 0.0, \"word_freq_free\": 0.0, \"capital_run_length_longest\": 34.0, \"is_spam\": 0}, {\"word_freq_000\": 0.0, \"word_freq_credit\": 0.0, \"word_freq_free\": 2.4, \"capital_run_length_longest\": 4.0, \"is_spam\": 0}, {\"word_freq_000\": 0.0, \"word_freq_credit\": 0.0, \"word_freq_free\": 0.0, \"capital_run_length_longest\": 1.0, \"is_spam\": 0}, {\"word_freq_000\": 0.0, \"word_freq_credit\": 0.0, \"word_freq_free\": 0.0, \"capital_run_length_longest\": 11.0, \"is_spam\": 0}, {\"word_freq_000\": 0.0, \"word_freq_credit\": 0.0, \"word_freq_free\": 0.0, \"capital_run_length_longest\": 7.0, \"is_spam\": 0}, {\"word_freq_000\": 0.0, \"word_freq_credit\": 0.0, \"word_freq_free\": 0.0, \"capital_run_length_longest\": 33.0, \"is_spam\": 0}, {\"word_freq_000\": 0.0, \"word_freq_credit\": 0.0, \"word_freq_free\": 0.0, \"capital_run_length_longest\": 8.0, \"is_spam\": 0}, {\"word_freq_000\": 0.0, \"word_freq_credit\": 0.0, \"word_freq_free\": 0.0, \"capital_run_length_longest\": 5.0, \"is_spam\": 0}, {\"word_freq_000\": 0.0, \"word_freq_credit\": 0.0, \"word_freq_free\": 0.0, \"capital_run_length_longest\": 3.0, \"is_spam\": 0}, {\"word_freq_000\": 0.0, \"word_freq_credit\": 0.0, \"word_freq_free\": 0.0, \"capital_run_length_longest\": 10.0, \"is_spam\": 0}, {\"word_freq_000\": 0.0, \"word_freq_credit\": 0.0, \"word_freq_free\": 0.0, \"capital_run_length_longest\": 404.0, \"is_spam\": 1}, {\"word_freq_000\": 0.0, \"word_freq_credit\": 0.0, \"word_freq_free\": 0.11, \"capital_run_length_longest\": 33.0, \"is_spam\": 0}, {\"word_freq_000\": 0.29, \"word_freq_credit\": 0.0, \"word_freq_free\": 0.0, \"capital_run_length_longest\": 18.0, \"is_spam\": 0}, {\"word_freq_000\": 0.39, \"word_freq_credit\": 0.0, \"word_freq_free\": 0.39, \"capital_run_length_longest\": 78.0, \"is_spam\": 1}, {\"word_freq_000\": 0.0, \"word_freq_credit\": 0.0, \"word_freq_free\": 0.0, \"capital_run_length_longest\": 51.0, \"is_spam\": 0}, {\"word_freq_000\": 0.0, \"word_freq_credit\": 0.0, \"word_freq_free\": 0.0, \"capital_run_length_longest\": 8.0, \"is_spam\": 0}, {\"word_freq_000\": 0.0, \"word_freq_credit\": 0.0, \"word_freq_free\": 0.0, \"capital_run_length_longest\": 3.0, \"is_spam\": 0}, {\"word_freq_000\": 0.0, \"word_freq_credit\": 0.0, \"word_freq_free\": 0.0, \"capital_run_length_longest\": 11.0, \"is_spam\": 1}, {\"word_freq_000\": 0.0, \"word_freq_credit\": 0.0, \"word_freq_free\": 0.0, \"capital_run_length_longest\": 2.0, \"is_spam\": 0}, {\"word_freq_000\": 0.0, \"word_freq_credit\": 0.0, \"word_freq_free\": 0.57, \"capital_run_length_longest\": 12.0, \"is_spam\": 0}, {\"word_freq_000\": 0.0, \"word_freq_credit\": 0.0, \"word_freq_free\": 0.19, \"capital_run_length_longest\": 11.0, \"is_spam\": 0}, {\"word_freq_000\": 0.0, \"word_freq_credit\": 0.0, \"word_freq_free\": 4.91, \"capital_run_length_longest\": 12.0, \"is_spam\": 1}, {\"word_freq_000\": 0.0, \"word_freq_credit\": 0.0, \"word_freq_free\": 1.89, \"capital_run_length_longest\": 180.0, \"is_spam\": 1}, {\"word_freq_000\": 0.0, \"word_freq_credit\": 0.0, \"word_freq_free\": 0.0, \"capital_run_length_longest\": 4.0, \"is_spam\": 0}, {\"word_freq_000\": 0.0, \"word_freq_credit\": 0.14, \"word_freq_free\": 0.14, \"capital_run_length_longest\": 132.0, \"is_spam\": 1}, {\"word_freq_000\": 0.44, \"word_freq_credit\": 0.0, \"word_freq_free\": 0.0, \"capital_run_length_longest\": 82.0, \"is_spam\": 1}, {\"word_freq_000\": 0.0, \"word_freq_credit\": 0.0, \"word_freq_free\": 0.58, \"capital_run_length_longest\": 1488.0, \"is_spam\": 0}, {\"word_freq_000\": 0.0, \"word_freq_credit\": 0.0, \"word_freq_free\": 0.0, \"capital_run_length_longest\": 43.0, \"is_spam\": 0}, {\"word_freq_000\": 0.0, \"word_freq_credit\": 0.0, \"word_freq_free\": 0.0, \"capital_run_length_longest\": 4.0, \"is_spam\": 0}, {\"word_freq_000\": 0.0, \"word_freq_credit\": 0.0, \"word_freq_free\": 0.0, \"capital_run_length_longest\": 8.0, \"is_spam\": 0}, {\"word_freq_000\": 0.0, \"word_freq_credit\": 0.0, \"word_freq_free\": 0.0, \"capital_run_length_longest\": 12.0, \"is_spam\": 0}, {\"word_freq_000\": 0.0, \"word_freq_credit\": 0.0, \"word_freq_free\": 0.0, \"capital_run_length_longest\": 9.0, \"is_spam\": 0}, {\"word_freq_000\": 0.0, \"word_freq_credit\": 0.0, \"word_freq_free\": 0.0, \"capital_run_length_longest\": 154.0, \"is_spam\": 1}, {\"word_freq_000\": 0.0, \"word_freq_credit\": 0.5, \"word_freq_free\": 0.0, \"capital_run_length_longest\": 32.0, \"is_spam\": 1}, {\"word_freq_000\": 0.0, \"word_freq_credit\": 0.0, \"word_freq_free\": 0.0, \"capital_run_length_longest\": 17.0, \"is_spam\": 0}, {\"word_freq_000\": 0.0, \"word_freq_credit\": 0.0, \"word_freq_free\": 0.85, \"capital_run_length_longest\": 42.0, \"is_spam\": 1}, {\"word_freq_000\": 0.0, \"word_freq_credit\": 0.18, \"word_freq_free\": 0.72, \"capital_run_length_longest\": 363.0, \"is_spam\": 1}, {\"word_freq_000\": 0.0, \"word_freq_credit\": 0.0, \"word_freq_free\": 0.0, \"capital_run_length_longest\": 2.0, \"is_spam\": 0}, {\"word_freq_000\": 0.36, \"word_freq_credit\": 0.0, \"word_freq_free\": 0.36, \"capital_run_length_longest\": 190.0, \"is_spam\": 1}, {\"word_freq_000\": 0.0, \"word_freq_credit\": 0.0, \"word_freq_free\": 0.0, \"capital_run_length_longest\": 343.0, \"is_spam\": 0}, {\"word_freq_000\": 0.0, \"word_freq_credit\": 0.0, \"word_freq_free\": 0.0, \"capital_run_length_longest\": 100.0, \"is_spam\": 0}, {\"word_freq_000\": 0.0, \"word_freq_credit\": 0.0, \"word_freq_free\": 0.0, \"capital_run_length_longest\": 7.0, \"is_spam\": 0}, {\"word_freq_000\": 0.0, \"word_freq_credit\": 0.0, \"word_freq_free\": 0.0, \"capital_run_length_longest\": 16.0, \"is_spam\": 0}, {\"word_freq_000\": 0.0, \"word_freq_credit\": 0.0, \"word_freq_free\": 4.76, \"capital_run_length_longest\": 11.0, \"is_spam\": 1}, {\"word_freq_000\": 0.0, \"word_freq_credit\": 0.0, \"word_freq_free\": 0.0, \"capital_run_length_longest\": 3.0, \"is_spam\": 0}, {\"word_freq_000\": 0.46, \"word_freq_credit\": 0.0, \"word_freq_free\": 0.92, \"capital_run_length_longest\": 13.0, \"is_spam\": 1}, {\"word_freq_000\": 0.0, \"word_freq_credit\": 0.0, \"word_freq_free\": 0.4, \"capital_run_length_longest\": 70.0, \"is_spam\": 0}, {\"word_freq_000\": 0.0, \"word_freq_credit\": 0.0, \"word_freq_free\": 0.0, \"capital_run_length_longest\": 97.0, \"is_spam\": 0}, {\"word_freq_000\": 0.0, \"word_freq_credit\": 0.0, \"word_freq_free\": 1.02, \"capital_run_length_longest\": 11.0, \"is_spam\": 0}, {\"word_freq_000\": 0.0, \"word_freq_credit\": 0.0, \"word_freq_free\": 0.0, \"capital_run_length_longest\": 2.0, \"is_spam\": 0}, {\"word_freq_000\": 0.0, \"word_freq_credit\": 0.0, \"word_freq_free\": 0.0, \"capital_run_length_longest\": 12.0, \"is_spam\": 1}, {\"word_freq_000\": 0.0, \"word_freq_credit\": 0.0, \"word_freq_free\": 0.0, \"capital_run_length_longest\": 5.0, \"is_spam\": 0}, {\"word_freq_000\": 0.0, \"word_freq_credit\": 0.0, \"word_freq_free\": 0.3, \"capital_run_length_longest\": 31.0, \"is_spam\": 1}, {\"word_freq_000\": 0.0, \"word_freq_credit\": 0.0, \"word_freq_free\": 0.0, \"capital_run_length_longest\": 7.0, \"is_spam\": 0}, {\"word_freq_000\": 0.0, \"word_freq_credit\": 0.0, \"word_freq_free\": 0.0, \"capital_run_length_longest\": 22.0, \"is_spam\": 0}, {\"word_freq_000\": 0.0, \"word_freq_credit\": 0.0, \"word_freq_free\": 0.0, \"capital_run_length_longest\": 114.0, \"is_spam\": 1}, {\"word_freq_000\": 0.0, \"word_freq_credit\": 0.0, \"word_freq_free\": 0.0, \"capital_run_length_longest\": 39.0, \"is_spam\": 0}, {\"word_freq_000\": 0.0, \"word_freq_credit\": 0.0, \"word_freq_free\": 0.0, \"capital_run_length_longest\": 1.0, \"is_spam\": 0}, {\"word_freq_000\": 0.0, \"word_freq_credit\": 0.0, \"word_freq_free\": 0.0, \"capital_run_length_longest\": 2.0, \"is_spam\": 0}, {\"word_freq_000\": 0.0, \"word_freq_credit\": 0.0, \"word_freq_free\": 0.0, \"capital_run_length_longest\": 10.0, \"is_spam\": 0}, {\"word_freq_000\": 0.0, \"word_freq_credit\": 0.0, \"word_freq_free\": 7.69, \"capital_run_length_longest\": 1.0, \"is_spam\": 0}, {\"word_freq_000\": 0.0, \"word_freq_credit\": 0.0, \"word_freq_free\": 0.08, \"capital_run_length_longest\": 47.0, \"is_spam\": 0}, {\"word_freq_000\": 0.0, \"word_freq_credit\": 0.0, \"word_freq_free\": 0.0, \"capital_run_length_longest\": 1.0, \"is_spam\": 0}, {\"word_freq_000\": 0.0, \"word_freq_credit\": 0.0, \"word_freq_free\": 0.0, \"capital_run_length_longest\": 12.0, \"is_spam\": 0}, {\"word_freq_000\": 1.62, \"word_freq_credit\": 0.0, \"word_freq_free\": 0.4, \"capital_run_length_longest\": 34.0, \"is_spam\": 1}, {\"word_freq_000\": 0.0, \"word_freq_credit\": 0.0, \"word_freq_free\": 0.0, \"capital_run_length_longest\": 5.0, \"is_spam\": 0}, {\"word_freq_000\": 0.0, \"word_freq_credit\": 0.0, \"word_freq_free\": 0.0, \"capital_run_length_longest\": 3.0, \"is_spam\": 0}, {\"word_freq_000\": 0.0, \"word_freq_credit\": 0.0, \"word_freq_free\": 0.0, \"capital_run_length_longest\": 55.0, \"is_spam\": 0}, {\"word_freq_000\": 0.0, \"word_freq_credit\": 0.0, \"word_freq_free\": 0.0, \"capital_run_length_longest\": 6.0, \"is_spam\": 0}, {\"word_freq_000\": 0.34, \"word_freq_credit\": 0.0, \"word_freq_free\": 0.68, \"capital_run_length_longest\": 12.0, \"is_spam\": 1}, {\"word_freq_000\": 0.54, \"word_freq_credit\": 0.0, \"word_freq_free\": 0.54, \"capital_run_length_longest\": 22.0, \"is_spam\": 1}, {\"word_freq_000\": 0.0, \"word_freq_credit\": 0.0, \"word_freq_free\": 0.0, \"capital_run_length_longest\": 62.0, \"is_spam\": 1}, {\"word_freq_000\": 0.0, \"word_freq_credit\": 0.0, \"word_freq_free\": 0.0, \"capital_run_length_longest\": 40.0, \"is_spam\": 0}, {\"word_freq_000\": 0.0, \"word_freq_credit\": 0.4, \"word_freq_free\": 0.1, \"capital_run_length_longest\": 56.0, \"is_spam\": 1}, {\"word_freq_000\": 0.0, \"word_freq_credit\": 0.0, \"word_freq_free\": 0.0, \"capital_run_length_longest\": 2.0, \"is_spam\": 0}, {\"word_freq_000\": 0.0, \"word_freq_credit\": 0.0, \"word_freq_free\": 0.0, \"capital_run_length_longest\": 15.0, \"is_spam\": 1}, {\"word_freq_000\": 0.0, \"word_freq_credit\": 0.0, \"word_freq_free\": 0.0, \"capital_run_length_longest\": 278.0, \"is_spam\": 1}, {\"word_freq_000\": 0.0, \"word_freq_credit\": 1.67, \"word_freq_free\": 0.0, \"capital_run_length_longest\": 70.0, \"is_spam\": 0}, {\"word_freq_000\": 0.0, \"word_freq_credit\": 0.0, \"word_freq_free\": 0.0, \"capital_run_length_longest\": 5.0, \"is_spam\": 0}, {\"word_freq_000\": 0.34, \"word_freq_credit\": 0.0, \"word_freq_free\": 0.0, \"capital_run_length_longest\": 48.0, \"is_spam\": 1}, {\"word_freq_000\": 0.0, \"word_freq_credit\": 0.0, \"word_freq_free\": 0.0, \"capital_run_length_longest\": 28.0, \"is_spam\": 1}, {\"word_freq_000\": 0.0, \"word_freq_credit\": 0.0, \"word_freq_free\": 0.0, \"capital_run_length_longest\": 19.0, \"is_spam\": 1}, {\"word_freq_000\": 0.0, \"word_freq_credit\": 0.0, \"word_freq_free\": 0.0, \"capital_run_length_longest\": 5.0, \"is_spam\": 1}, {\"word_freq_000\": 0.0, \"word_freq_credit\": 1.81, \"word_freq_free\": 0.72, \"capital_run_length_longest\": 47.0, \"is_spam\": 1}, {\"word_freq_000\": 0.09, \"word_freq_credit\": 0.59, \"word_freq_free\": 0.0, \"capital_run_length_longest\": 49.0, \"is_spam\": 1}, {\"word_freq_000\": 0.0, \"word_freq_credit\": 0.0, \"word_freq_free\": 0.0, \"capital_run_length_longest\": 4.0, \"is_spam\": 0}, {\"word_freq_000\": 0.0, \"word_freq_credit\": 0.0, \"word_freq_free\": 0.0, \"capital_run_length_longest\": 20.0, \"is_spam\": 0}, {\"word_freq_000\": 0.0, \"word_freq_credit\": 0.0, \"word_freq_free\": 0.0, \"capital_run_length_longest\": 25.0, \"is_spam\": 1}, {\"word_freq_000\": 0.0, \"word_freq_credit\": 0.69, \"word_freq_free\": 0.69, \"capital_run_length_longest\": 13.0, \"is_spam\": 0}, {\"word_freq_000\": 0.0, \"word_freq_credit\": 0.0, \"word_freq_free\": 0.0, \"capital_run_length_longest\": 15.0, \"is_spam\": 0}, {\"word_freq_000\": 0.0, \"word_freq_credit\": 0.0, \"word_freq_free\": 0.0, \"capital_run_length_longest\": 4.0, \"is_spam\": 0}, {\"word_freq_000\": 0.0, \"word_freq_credit\": 0.0, \"word_freq_free\": 0.0, \"capital_run_length_longest\": 3.0, \"is_spam\": 0}, {\"word_freq_000\": 0.0, \"word_freq_credit\": 0.0, \"word_freq_free\": 0.0, \"capital_run_length_longest\": 33.0, \"is_spam\": 1}, {\"word_freq_000\": 0.0, \"word_freq_credit\": 0.0, \"word_freq_free\": 0.0, \"capital_run_length_longest\": 169.0, \"is_spam\": 1}, {\"word_freq_000\": 0.0, \"word_freq_credit\": 0.0, \"word_freq_free\": 0.0, \"capital_run_length_longest\": 1.0, \"is_spam\": 0}, {\"word_freq_000\": 0.0, \"word_freq_credit\": 0.0, \"word_freq_free\": 0.0, \"capital_run_length_longest\": 33.0, \"is_spam\": 1}, {\"word_freq_000\": 0.0, \"word_freq_credit\": 0.0, \"word_freq_free\": 0.87, \"capital_run_length_longest\": 45.0, \"is_spam\": 1}, {\"word_freq_000\": 1.92, \"word_freq_credit\": 0.38, \"word_freq_free\": 0.38, \"capital_run_length_longest\": 6.0, \"is_spam\": 1}, {\"word_freq_000\": 0.0, \"word_freq_credit\": 0.0, \"word_freq_free\": 0.0, \"capital_run_length_longest\": 15.0, \"is_spam\": 0}, {\"word_freq_000\": 0.0, \"word_freq_credit\": 0.0, \"word_freq_free\": 0.0, \"capital_run_length_longest\": 118.0, \"is_spam\": 0}, {\"word_freq_000\": 0.0, \"word_freq_credit\": 0.0, \"word_freq_free\": 0.41, \"capital_run_length_longest\": 19.0, \"is_spam\": 1}, {\"word_freq_000\": 0.0, \"word_freq_credit\": 0.0, \"word_freq_free\": 0.02, \"capital_run_length_longest\": 52.68463768115942, \"is_spam\": 1}, {\"word_freq_000\": 0.0, \"word_freq_credit\": 0.38, \"word_freq_free\": 0.57, \"capital_run_length_longest\": 213.0, \"is_spam\": 1}, {\"word_freq_000\": 0.05, \"word_freq_credit\": 0.0, \"word_freq_free\": 0.25, \"capital_run_length_longest\": 23.0, \"is_spam\": 0}, {\"word_freq_000\": 0.0, \"word_freq_credit\": 0.0, \"word_freq_free\": 1.61, \"capital_run_length_longest\": 17.0, \"is_spam\": 1}, {\"word_freq_000\": 0.0, \"word_freq_credit\": 0.22, \"word_freq_free\": 0.0, \"capital_run_length_longest\": 74.0, \"is_spam\": 1}, {\"word_freq_000\": 0.0, \"word_freq_credit\": 0.0, \"word_freq_free\": 0.0, \"capital_run_length_longest\": 24.0, \"is_spam\": 0}, {\"word_freq_000\": 0.0, \"word_freq_credit\": 0.0, \"word_freq_free\": 0.0, \"capital_run_length_longest\": 5.0, \"is_spam\": 0}, {\"word_freq_000\": 0.0, \"word_freq_credit\": 0.0, \"word_freq_free\": 0.52, \"capital_run_length_longest\": 20.0, \"is_spam\": 1}, {\"word_freq_000\": 0.0, \"word_freq_credit\": 0.0, \"word_freq_free\": 0.0, \"capital_run_length_longest\": 8.0, \"is_spam\": 0}, {\"word_freq_000\": 0.0, \"word_freq_credit\": 0.0, \"word_freq_free\": 0.0, \"capital_run_length_longest\": 24.0, \"is_spam\": 0}, {\"word_freq_000\": 0.0, \"word_freq_credit\": 0.0, \"word_freq_free\": 0.0, \"capital_run_length_longest\": 12.0, \"is_spam\": 0}, {\"word_freq_000\": 0.0, \"word_freq_credit\": 0.0, \"word_freq_free\": 0.0, \"capital_run_length_longest\": 7.0, \"is_spam\": 0}, {\"word_freq_000\": 0.0, \"word_freq_credit\": 0.0, \"word_freq_free\": 0.0, \"capital_run_length_longest\": 1.0, \"is_spam\": 0}, {\"word_freq_000\": 0.0, \"word_freq_credit\": 0.0, \"word_freq_free\": 0.0, \"capital_run_length_longest\": 2.0, \"is_spam\": 1}, {\"word_freq_000\": 0.0, \"word_freq_credit\": 0.0, \"word_freq_free\": 0.0, \"capital_run_length_longest\": 9.0, \"is_spam\": 0}, {\"word_freq_000\": 0.0, \"word_freq_credit\": 0.0, \"word_freq_free\": 0.0, \"capital_run_length_longest\": 24.0, \"is_spam\": 0}, {\"word_freq_000\": 0.0, \"word_freq_credit\": 0.0, \"word_freq_free\": 0.0, \"capital_run_length_longest\": 10.0, \"is_spam\": 0}, {\"word_freq_000\": 0.0, \"word_freq_credit\": 0.0, \"word_freq_free\": 0.0, \"capital_run_length_longest\": 2.0, \"is_spam\": 0}, {\"word_freq_000\": 0.0, \"word_freq_credit\": 0.0, \"word_freq_free\": 1.36, \"capital_run_length_longest\": 32.0, \"is_spam\": 1}, {\"word_freq_000\": 0.32, \"word_freq_credit\": 0.0, \"word_freq_free\": 0.26, \"capital_run_length_longest\": 134.0, \"is_spam\": 1}, {\"word_freq_000\": 0.0, \"word_freq_credit\": 0.0, \"word_freq_free\": 0.0, \"capital_run_length_longest\": 8.0, \"is_spam\": 0}, {\"word_freq_000\": 0.0, \"word_freq_credit\": 0.0, \"word_freq_free\": 0.0, \"capital_run_length_longest\": 5.0, \"is_spam\": 0}, {\"word_freq_000\": 0.6, \"word_freq_credit\": 0.2, \"word_freq_free\": 0.1, \"capital_run_length_longest\": 669.0, \"is_spam\": 1}, {\"word_freq_000\": 0.0, \"word_freq_credit\": 0.0, \"word_freq_free\": 0.0, \"capital_run_length_longest\": 3.0, \"is_spam\": 0}, {\"word_freq_000\": 0.0, \"word_freq_credit\": 0.0, \"word_freq_free\": 0.0, \"capital_run_length_longest\": 17.0, \"is_spam\": 0}, {\"word_freq_000\": 0.0, \"word_freq_credit\": 0.0, \"word_freq_free\": 0.41, \"capital_run_length_longest\": 12.0, \"is_spam\": 1}, {\"word_freq_000\": 0.0, \"word_freq_credit\": 0.06, \"word_freq_free\": 0.13, \"capital_run_length_longest\": 29.0, \"is_spam\": 0}, {\"word_freq_000\": 0.0, \"word_freq_credit\": 0.0, \"word_freq_free\": 0.0, \"capital_run_length_longest\": 25.0, \"is_spam\": 1}, {\"word_freq_000\": 0.0, \"word_freq_credit\": 0.0, \"word_freq_free\": 0.0, \"capital_run_length_longest\": 24.0, \"is_spam\": 0}, {\"word_freq_000\": 0.36, \"word_freq_credit\": 0.0, \"word_freq_free\": 0.0, \"capital_run_length_longest\": 69.0, \"is_spam\": 1}, {\"word_freq_000\": 0.0, \"word_freq_credit\": 0.0, \"word_freq_free\": 0.0, \"capital_run_length_longest\": 22.0, \"is_spam\": 0}, {\"word_freq_000\": 0.0, \"word_freq_credit\": 0.0, \"word_freq_free\": 0.0, \"capital_run_length_longest\": 47.0, \"is_spam\": 0}, {\"word_freq_000\": 0.0, \"word_freq_credit\": 0.0, \"word_freq_free\": 0.0, \"capital_run_length_longest\": 29.0, \"is_spam\": 0}, {\"word_freq_000\": 0.0, \"word_freq_credit\": 0.0, \"word_freq_free\": 5.91, \"capital_run_length_longest\": 15.0, \"is_spam\": 1}, {\"word_freq_000\": 0.0, \"word_freq_credit\": 0.0, \"word_freq_free\": 0.08, \"capital_run_length_longest\": 70.0, \"is_spam\": 0}, {\"word_freq_000\": 0.0, \"word_freq_credit\": 0.0, \"word_freq_free\": 1.31, \"capital_run_length_longest\": 55.0, \"is_spam\": 0}, {\"word_freq_000\": 0.0, \"word_freq_credit\": 0.0, \"word_freq_free\": 0.0, \"capital_run_length_longest\": 7.0, \"is_spam\": 0}, {\"word_freq_000\": 0.0, \"word_freq_credit\": 0.0, \"word_freq_free\": 0.0, \"capital_run_length_longest\": 5.0, \"is_spam\": 0}, {\"word_freq_000\": 0.0, \"word_freq_credit\": 0.0, \"word_freq_free\": 0.0, \"capital_run_length_longest\": 6.0, \"is_spam\": 1}, {\"word_freq_000\": 0.0, \"word_freq_credit\": 0.0, \"word_freq_free\": 0.0, \"capital_run_length_longest\": 15.0, \"is_spam\": 0}, {\"word_freq_000\": 0.0, \"word_freq_credit\": 0.0, \"word_freq_free\": 0.0, \"capital_run_length_longest\": 14.0, \"is_spam\": 0}, {\"word_freq_000\": 0.0, \"word_freq_credit\": 0.0, \"word_freq_free\": 0.0, \"capital_run_length_longest\": 15.0, \"is_spam\": 0}, {\"word_freq_000\": 0.0, \"word_freq_credit\": 0.0, \"word_freq_free\": 0.0, \"capital_run_length_longest\": 19.0, \"is_spam\": 0}, {\"word_freq_000\": 0.0, \"word_freq_credit\": 0.0, \"word_freq_free\": 0.0, \"capital_run_length_longest\": 18.0, \"is_spam\": 0}, {\"word_freq_000\": 0.0, \"word_freq_credit\": 0.0, \"word_freq_free\": 0.0, \"capital_run_length_longest\": 28.0, \"is_spam\": 0}, {\"word_freq_000\": 0.0, \"word_freq_credit\": 0.0, \"word_freq_free\": 0.14, \"capital_run_length_longest\": 70.0, \"is_spam\": 0}, {\"word_freq_000\": 0.46, \"word_freq_credit\": 0.0, \"word_freq_free\": 0.23, \"capital_run_length_longest\": 116.0, \"is_spam\": 1}, {\"word_freq_000\": 0.0, \"word_freq_credit\": 0.0, \"word_freq_free\": 3.89, \"capital_run_length_longest\": 129.0, \"is_spam\": 1}, {\"word_freq_000\": 0.0, \"word_freq_credit\": 0.0, \"word_freq_free\": 0.0, \"capital_run_length_longest\": 1.0, \"is_spam\": 0}, {\"word_freq_000\": 0.0, \"word_freq_credit\": 3.12, \"word_freq_free\": 0.62, \"capital_run_length_longest\": 101.0, \"is_spam\": 1}, {\"word_freq_000\": 0.0, \"word_freq_credit\": 0.0, \"word_freq_free\": 0.0, \"capital_run_length_longest\": 5.0, \"is_spam\": 0}, {\"word_freq_000\": 0.0, \"word_freq_credit\": 0.0, \"word_freq_free\": 0.0, \"capital_run_length_longest\": 107.0, \"is_spam\": 1}, {\"word_freq_000\": 0.0, \"word_freq_credit\": 0.0, \"word_freq_free\": 0.58, \"capital_run_length_longest\": 123.0, \"is_spam\": 1}, {\"word_freq_000\": 0.77, \"word_freq_credit\": 0.0, \"word_freq_free\": 0.0, \"capital_run_length_longest\": 19.0, \"is_spam\": 1}, {\"word_freq_000\": 0.0, \"word_freq_credit\": 0.0, \"word_freq_free\": 0.0, \"capital_run_length_longest\": 11.0, \"is_spam\": 0}, {\"word_freq_000\": 0.0, \"word_freq_credit\": 0.0, \"word_freq_free\": 0.0, \"capital_run_length_longest\": 4.0, \"is_spam\": 0}, {\"word_freq_000\": 0.0, \"word_freq_credit\": 0.0, \"word_freq_free\": 0.0, \"capital_run_length_longest\": 6.0, \"is_spam\": 0}, {\"word_freq_000\": 0.0, \"word_freq_credit\": 0.0, \"word_freq_free\": 0.0, \"capital_run_length_longest\": 1.0, \"is_spam\": 0}, {\"word_freq_000\": 0.0, \"word_freq_credit\": 0.0, \"word_freq_free\": 0.0, \"capital_run_length_longest\": 7.0, \"is_spam\": 0}, {\"word_freq_000\": 0.0, \"word_freq_credit\": 0.0, \"word_freq_free\": 0.0, \"capital_run_length_longest\": 3.0, \"is_spam\": 0}, {\"word_freq_000\": 0.0, \"word_freq_credit\": 0.0, \"word_freq_free\": 0.23, \"capital_run_length_longest\": 8.0, \"is_spam\": 0}, {\"word_freq_000\": 0.0, \"word_freq_credit\": 0.0, \"word_freq_free\": 0.0, \"capital_run_length_longest\": 12.0, \"is_spam\": 0}, {\"word_freq_000\": 0.0, \"word_freq_credit\": 0.0, \"word_freq_free\": 0.0, \"capital_run_length_longest\": 4.0, \"is_spam\": 0}, {\"word_freq_000\": 0.0, \"word_freq_credit\": 0.0, \"word_freq_free\": 0.0, \"capital_run_length_longest\": 21.0, \"is_spam\": 0}, {\"word_freq_000\": 0.0, \"word_freq_credit\": 0.0, \"word_freq_free\": 0.0, \"capital_run_length_longest\": 8.0, \"is_spam\": 1}, {\"word_freq_000\": 0.0, \"word_freq_credit\": 0.0, \"word_freq_free\": 0.0, \"capital_run_length_longest\": 8.0, \"is_spam\": 0}, {\"word_freq_000\": 0.0, \"word_freq_credit\": 0.0, \"word_freq_free\": 0.0, \"capital_run_length_longest\": 5.0, \"is_spam\": 0}, {\"word_freq_000\": 0.0, \"word_freq_credit\": 0.0, \"word_freq_free\": 0.44, \"capital_run_length_longest\": 28.0, \"is_spam\": 1}, {\"word_freq_000\": 0.0, \"word_freq_credit\": 0.0, \"word_freq_free\": 0.0, \"capital_run_length_longest\": 1.0, \"is_spam\": 1}, {\"word_freq_000\": 0.0, \"word_freq_credit\": 0.0, \"word_freq_free\": 0.0, \"capital_run_length_longest\": 27.0, \"is_spam\": 0}, {\"word_freq_000\": 0.0, \"word_freq_credit\": 0.0, \"word_freq_free\": 0.0, \"capital_run_length_longest\": 5.0, \"is_spam\": 0}, {\"word_freq_000\": 0.0, \"word_freq_credit\": 0.0, \"word_freq_free\": 0.0, \"capital_run_length_longest\": 53.0, \"is_spam\": 0}, {\"word_freq_000\": 0.0, \"word_freq_credit\": 0.0, \"word_freq_free\": 0.5, \"capital_run_length_longest\": 60.0, \"is_spam\": 1}, {\"word_freq_000\": 0.0, \"word_freq_credit\": 0.0, \"word_freq_free\": 0.0, \"capital_run_length_longest\": 14.0, \"is_spam\": 0}, {\"word_freq_000\": 0.0, \"word_freq_credit\": 0.0, \"word_freq_free\": 0.25, \"capital_run_length_longest\": 66.0, \"is_spam\": 1}, {\"word_freq_000\": 0.0, \"word_freq_credit\": 0.0, \"word_freq_free\": 0.0, \"capital_run_length_longest\": 68.0, \"is_spam\": 1}, {\"word_freq_000\": 0.0, \"word_freq_credit\": 0.0, \"word_freq_free\": 0.0, \"capital_run_length_longest\": 20.0, \"is_spam\": 1}, {\"word_freq_000\": 0.0, \"word_freq_credit\": 0.0, \"word_freq_free\": 0.0, \"capital_run_length_longest\": 12.0, \"is_spam\": 0}, {\"word_freq_000\": 0.0, \"word_freq_credit\": 0.44, \"word_freq_free\": 0.88, \"capital_run_length_longest\": 23.0, \"is_spam\": 1}, {\"word_freq_000\": 0.85, \"word_freq_credit\": 0.24, \"word_freq_free\": 0.0, \"capital_run_length_longest\": 12.0, \"is_spam\": 1}, {\"word_freq_000\": 0.0, \"word_freq_credit\": 0.0, \"word_freq_free\": 0.0, \"capital_run_length_longest\": 28.0, \"is_spam\": 1}, {\"word_freq_000\": 1.19, \"word_freq_credit\": 0.0, \"word_freq_free\": 1.19, \"capital_run_length_longest\": 31.0, \"is_spam\": 1}, {\"word_freq_000\": 0.59, \"word_freq_credit\": 0.35, \"word_freq_free\": 2.14, \"capital_run_length_longest\": 283.0, \"is_spam\": 1}, {\"word_freq_000\": 0.0, \"word_freq_credit\": 0.0, \"word_freq_free\": 0.0, \"capital_run_length_longest\": 10.0, \"is_spam\": 0}, {\"word_freq_000\": 0.0, \"word_freq_credit\": 0.0, \"word_freq_free\": 0.0, \"capital_run_length_longest\": 24.0, \"is_spam\": 0}, {\"word_freq_000\": 0.0, \"word_freq_credit\": 0.0, \"word_freq_free\": 0.0, \"capital_run_length_longest\": 22.0, \"is_spam\": 0}, {\"word_freq_000\": 0.0, \"word_freq_credit\": 0.0, \"word_freq_free\": 0.0, \"capital_run_length_longest\": 36.0, \"is_spam\": 0}, {\"word_freq_000\": 0.0, \"word_freq_credit\": 0.0, \"word_freq_free\": 0.0, \"capital_run_length_longest\": 15.0, \"is_spam\": 0}, {\"word_freq_000\": 0.0, \"word_freq_credit\": 0.0, \"word_freq_free\": 0.0, \"capital_run_length_longest\": 15.0, \"is_spam\": 0}, {\"word_freq_000\": 0.0, \"word_freq_credit\": 0.0, \"word_freq_free\": 0.0, \"capital_run_length_longest\": 12.0, \"is_spam\": 0}, {\"word_freq_000\": 0.0, \"word_freq_credit\": 0.0, \"word_freq_free\": 0.31, \"capital_run_length_longest\": 10.0, \"is_spam\": 1}, {\"word_freq_000\": 0.0, \"word_freq_credit\": 0.0, \"word_freq_free\": 0.0, \"capital_run_length_longest\": 21.0, \"is_spam\": 1}, {\"word_freq_000\": 0.35, \"word_freq_credit\": 0.0, \"word_freq_free\": 0.0, \"capital_run_length_longest\": 39.0, \"is_spam\": 1}, {\"word_freq_000\": 0.0, \"word_freq_credit\": 0.0, \"word_freq_free\": 0.0, \"capital_run_length_longest\": 12.0, \"is_spam\": 1}, {\"word_freq_000\": 0.0, \"word_freq_credit\": 0.0, \"word_freq_free\": 1.63, \"capital_run_length_longest\": 16.0, \"is_spam\": 1}, {\"word_freq_000\": 1.16, \"word_freq_credit\": 0.32, \"word_freq_free\": 0.06, \"capital_run_length_longest\": 485.0, \"is_spam\": 1}, {\"word_freq_000\": 0.0, \"word_freq_credit\": 0.0, \"word_freq_free\": 0.0, \"capital_run_length_longest\": 21.0, \"is_spam\": 0}, {\"word_freq_000\": 0.0, \"word_freq_credit\": 0.0, \"word_freq_free\": 0.0, \"capital_run_length_longest\": 8.0, \"is_spam\": 1}, {\"word_freq_000\": 0.0, \"word_freq_credit\": 0.0, \"word_freq_free\": 0.0, \"capital_run_length_longest\": 13.0, \"is_spam\": 1}, {\"word_freq_000\": 0.0, \"word_freq_credit\": 0.0, \"word_freq_free\": 0.0, \"capital_run_length_longest\": 1.0, \"is_spam\": 0}, {\"word_freq_000\": 0.0, \"word_freq_credit\": 0.0, \"word_freq_free\": 0.0, \"capital_run_length_longest\": 75.0, \"is_spam\": 1}, {\"word_freq_000\": 0.0, \"word_freq_credit\": 0.0, \"word_freq_free\": 0.0, \"capital_run_length_longest\": 44.0, \"is_spam\": 1}, {\"word_freq_000\": 0.0, \"word_freq_credit\": 0.0, \"word_freq_free\": 0.32, \"capital_run_length_longest\": 10.0, \"is_spam\": 1}, {\"word_freq_000\": 0.0, \"word_freq_credit\": 0.0, \"word_freq_free\": 0.0, \"capital_run_length_longest\": 30.0, \"is_spam\": 1}, {\"word_freq_000\": 0.0, \"word_freq_credit\": 0.0, \"word_freq_free\": 0.0, \"capital_run_length_longest\": 13.0, \"is_spam\": 0}, {\"word_freq_000\": 0.0, \"word_freq_credit\": 0.0, \"word_freq_free\": 0.0, \"capital_run_length_longest\": 1.0, \"is_spam\": 0}, {\"word_freq_000\": 0.34, \"word_freq_credit\": 0.0, \"word_freq_free\": 0.24, \"capital_run_length_longest\": 131.0, \"is_spam\": 1}, {\"word_freq_000\": 0.0, \"word_freq_credit\": 0.0, \"word_freq_free\": 0.0, \"capital_run_length_longest\": 3.0, \"is_spam\": 0}, {\"word_freq_000\": 1.05, \"word_freq_credit\": 0.0, \"word_freq_free\": 0.26, \"capital_run_length_longest\": 193.0, \"is_spam\": 1}, {\"word_freq_000\": 0.0, \"word_freq_credit\": 0.0, \"word_freq_free\": 0.44, \"capital_run_length_longest\": 28.0, \"is_spam\": 1}, {\"word_freq_000\": 0.0, \"word_freq_credit\": 0.0, \"word_freq_free\": 0.43, \"capital_run_length_longest\": 99.0, \"is_spam\": 1}, {\"word_freq_000\": 0.0, \"word_freq_credit\": 0.0, \"word_freq_free\": 0.0, \"capital_run_length_longest\": 7.0, \"is_spam\": 0}, {\"word_freq_000\": 0.51, \"word_freq_credit\": 0.0, \"word_freq_free\": 0.21, \"capital_run_length_longest\": 611.0, \"is_spam\": 1}, {\"word_freq_000\": 0.34, \"word_freq_credit\": 0.29, \"word_freq_free\": 0.32, \"capital_run_length_longest\": 117.0, \"is_spam\": 1}, {\"word_freq_000\": 0.0, \"word_freq_credit\": 0.0, \"word_freq_free\": 2.17, \"capital_run_length_longest\": 5.0, \"is_spam\": 1}, {\"word_freq_000\": 0.0, \"word_freq_credit\": 0.0, \"word_freq_free\": 0.0, \"capital_run_length_longest\": 13.0, \"is_spam\": 0}, {\"word_freq_000\": 0.0, \"word_freq_credit\": 0.0, \"word_freq_free\": 0.0, \"capital_run_length_longest\": 13.0, \"is_spam\": 0}, {\"word_freq_000\": 0.0, \"word_freq_credit\": 0.0, \"word_freq_free\": 0.0, \"capital_run_length_longest\": 11.0, \"is_spam\": 0}, {\"word_freq_000\": 0.0, \"word_freq_credit\": 0.0, \"word_freq_free\": 0.0, \"capital_run_length_longest\": 4.0, \"is_spam\": 0}, {\"word_freq_000\": 0.0, \"word_freq_credit\": 0.0, \"word_freq_free\": 0.0, \"capital_run_length_longest\": 3.0, \"is_spam\": 0}, {\"word_freq_000\": 0.0, \"word_freq_credit\": 0.0, \"word_freq_free\": 0.0, \"capital_run_length_longest\": 1.0, \"is_spam\": 0}, {\"word_freq_000\": 0.0, \"word_freq_credit\": 0.0, \"word_freq_free\": 0.0, \"capital_run_length_longest\": 22.0, \"is_spam\": 1}, {\"word_freq_000\": 0.0, \"word_freq_credit\": 0.0, \"word_freq_free\": 0.0, \"capital_run_length_longest\": 4.0, \"is_spam\": 1}, {\"word_freq_000\": 0.0, \"word_freq_credit\": 0.0, \"word_freq_free\": 0.0, \"capital_run_length_longest\": 1.0, \"is_spam\": 0}, {\"word_freq_000\": 0.0, \"word_freq_credit\": 0.0, \"word_freq_free\": 0.0, \"capital_run_length_longest\": 19.0, \"is_spam\": 0}, {\"word_freq_000\": 0.0, \"word_freq_credit\": 0.0, \"word_freq_free\": 0.0, \"capital_run_length_longest\": 15.0, \"is_spam\": 0}, {\"word_freq_000\": 0.0, \"word_freq_credit\": 3.53, \"word_freq_free\": 0.0, \"capital_run_length_longest\": 445.0, \"is_spam\": 1}, {\"word_freq_000\": 0.0, \"word_freq_credit\": 0.0, \"word_freq_free\": 0.0, \"capital_run_length_longest\": 5.0, \"is_spam\": 0}, {\"word_freq_000\": 0.0, \"word_freq_credit\": 0.0, \"word_freq_free\": 0.0, \"capital_run_length_longest\": 12.0, \"is_spam\": 0}, {\"word_freq_000\": 0.0, \"word_freq_credit\": 0.0, \"word_freq_free\": 0.0, \"capital_run_length_longest\": 7.0, \"is_spam\": 0}, {\"word_freq_000\": 0.0, \"word_freq_credit\": 1.68, \"word_freq_free\": 0.0, \"capital_run_length_longest\": 101.0, \"is_spam\": 1}, {\"word_freq_000\": 0.62, \"word_freq_credit\": 0.0, \"word_freq_free\": 1.25, \"capital_run_length_longest\": 30.0, \"is_spam\": 1}, {\"word_freq_000\": 0.0, \"word_freq_credit\": 0.0, \"word_freq_free\": 0.0, \"capital_run_length_longest\": 1.0, \"is_spam\": 0}, {\"word_freq_000\": 0.0, \"word_freq_credit\": 1.95, \"word_freq_free\": 0.0, \"capital_run_length_longest\": 63.0, \"is_spam\": 1}, {\"word_freq_000\": 0.0, \"word_freq_credit\": 0.0, \"word_freq_free\": 0.0, \"capital_run_length_longest\": 15.0, \"is_spam\": 0}, {\"word_freq_000\": 0.0, \"word_freq_credit\": 0.0, \"word_freq_free\": 0.0, \"capital_run_length_longest\": 5.0, \"is_spam\": 0}, {\"word_freq_000\": 0.0, \"word_freq_credit\": 0.0, \"word_freq_free\": 0.0, \"capital_run_length_longest\": 1.0, \"is_spam\": 0}, {\"word_freq_000\": 0.0, \"word_freq_credit\": 0.0, \"word_freq_free\": 0.0, \"capital_run_length_longest\": 9.0, \"is_spam\": 0}, {\"word_freq_000\": 0.0, \"word_freq_credit\": 0.0, \"word_freq_free\": 0.0, \"capital_run_length_longest\": 4.0, \"is_spam\": 0}, {\"word_freq_000\": 0.0, \"word_freq_credit\": 0.0, \"word_freq_free\": 1.43, \"capital_run_length_longest\": 2.0, \"is_spam\": 0}, {\"word_freq_000\": 0.0, \"word_freq_credit\": 0.0, \"word_freq_free\": 0.0, \"capital_run_length_longest\": 1.0, \"is_spam\": 0}, {\"word_freq_000\": 0.0, \"word_freq_credit\": 0.0, \"word_freq_free\": 0.0, \"capital_run_length_longest\": 5.0, \"is_spam\": 0}, {\"word_freq_000\": 0.0, \"word_freq_credit\": 0.0, \"word_freq_free\": 0.0, \"capital_run_length_longest\": 13.0, \"is_spam\": 0}, {\"word_freq_000\": 0.0, \"word_freq_credit\": 0.0, \"word_freq_free\": 0.0, \"capital_run_length_longest\": 50.0, \"is_spam\": 0}, {\"word_freq_000\": 0.0, \"word_freq_credit\": 0.09, \"word_freq_free\": 0.0, \"capital_run_length_longest\": 27.0, \"is_spam\": 0}, {\"word_freq_000\": 0.0, \"word_freq_credit\": 0.0, \"word_freq_free\": 0.34, \"capital_run_length_longest\": 15.0, \"is_spam\": 0}, {\"word_freq_000\": 0.0, \"word_freq_credit\": 0.0, \"word_freq_free\": 0.67, \"capital_run_length_longest\": 12.0, \"is_spam\": 1}, {\"word_freq_000\": 0.0, \"word_freq_credit\": 0.0, \"word_freq_free\": 0.0, \"capital_run_length_longest\": 9.0, \"is_spam\": 0}, {\"word_freq_000\": 0.0, \"word_freq_credit\": 0.03, \"word_freq_free\": 0.09, \"capital_run_length_longest\": 102.0, \"is_spam\": 0}, {\"word_freq_000\": 0.0, \"word_freq_credit\": 0.0, \"word_freq_free\": 2.94, \"capital_run_length_longest\": 12.0, \"is_spam\": 1}, {\"word_freq_000\": 0.0, \"word_freq_credit\": 0.0, \"word_freq_free\": 0.0, \"capital_run_length_longest\": 1.0, \"is_spam\": 0}, {\"word_freq_000\": 0.0, \"word_freq_credit\": 0.0, \"word_freq_free\": 0.0, \"capital_run_length_longest\": 1.0, \"is_spam\": 0}, {\"word_freq_000\": 0.0, \"word_freq_credit\": 0.0, \"word_freq_free\": 0.0, \"capital_run_length_longest\": 6.0, \"is_spam\": 0}, {\"word_freq_000\": 0.0, \"word_freq_credit\": 0.0, \"word_freq_free\": 0.0, \"capital_run_length_longest\": 160.0, \"is_spam\": 0}, {\"word_freq_000\": 0.0, \"word_freq_credit\": 0.0, \"word_freq_free\": 0.2, \"capital_run_length_longest\": 142.0, \"is_spam\": 1}, {\"word_freq_000\": 0.0, \"word_freq_credit\": 0.0, \"word_freq_free\": 0.0, \"capital_run_length_longest\": 5.0, \"is_spam\": 0}, {\"word_freq_000\": 0.39, \"word_freq_credit\": 4.1, \"word_freq_free\": 0.87, \"capital_run_length_longest\": 494.0, \"is_spam\": 1}, {\"word_freq_000\": 0.0, \"word_freq_credit\": 0.23, \"word_freq_free\": 0.23, \"capital_run_length_longest\": 97.0, \"is_spam\": 1}, {\"word_freq_000\": 0.0, \"word_freq_credit\": 0.0, \"word_freq_free\": 0.0, \"capital_run_length_longest\": 15.0, \"is_spam\": 0}, {\"word_freq_000\": 0.19, \"word_freq_credit\": 0.06, \"word_freq_free\": 0.0, \"capital_run_length_longest\": 43.0, \"is_spam\": 1}, {\"word_freq_000\": 0.0, \"word_freq_credit\": 0.0, \"word_freq_free\": 0.0, \"capital_run_length_longest\": 3.0, \"is_spam\": 0}, {\"word_freq_000\": 0.0, \"word_freq_credit\": 0.05, \"word_freq_free\": 0.17, \"capital_run_length_longest\": 95.0, \"is_spam\": 1}, {\"word_freq_000\": 0.1, \"word_freq_credit\": 0.0, \"word_freq_free\": 0.1, \"capital_run_length_longest\": 26.0, \"is_spam\": 0}, {\"word_freq_000\": 0.0, \"word_freq_credit\": 0.0, \"word_freq_free\": 0.0, \"capital_run_length_longest\": 9.0, \"is_spam\": 0}, {\"word_freq_000\": 0.44, \"word_freq_credit\": 0.16, \"word_freq_free\": 0.72, \"capital_run_length_longest\": 181.0, \"is_spam\": 1}, {\"word_freq_000\": 0.0, \"word_freq_credit\": 0.0, \"word_freq_free\": 0.0, \"capital_run_length_longest\": 5.0, \"is_spam\": 0}, {\"word_freq_000\": 0.0, \"word_freq_credit\": 0.39, \"word_freq_free\": 0.98, \"capital_run_length_longest\": 76.0, \"is_spam\": 1}, {\"word_freq_000\": 0.0, \"word_freq_credit\": 0.0, \"word_freq_free\": 0.0, \"capital_run_length_longest\": 4.0, \"is_spam\": 0}, {\"word_freq_000\": 0.0, \"word_freq_credit\": 0.0, \"word_freq_free\": 0.0, \"capital_run_length_longest\": 13.0, \"is_spam\": 1}, {\"word_freq_000\": 0.0, \"word_freq_credit\": 0.0, \"word_freq_free\": 0.0, \"capital_run_length_longest\": 13.0, \"is_spam\": 1}, {\"word_freq_000\": 0.0, \"word_freq_credit\": 0.0, \"word_freq_free\": 0.0, \"capital_run_length_longest\": 7.0, \"is_spam\": 0}, {\"word_freq_000\": 0.0, \"word_freq_credit\": 0.0, \"word_freq_free\": 0.0, \"capital_run_length_longest\": 15.0, \"is_spam\": 0}, {\"word_freq_000\": 0.0, \"word_freq_credit\": 0.0, \"word_freq_free\": 0.0, \"capital_run_length_longest\": 7.0, \"is_spam\": 0}, {\"word_freq_000\": 0.0, \"word_freq_credit\": 0.0, \"word_freq_free\": 0.0, \"capital_run_length_longest\": 52.0, \"is_spam\": 0}, {\"word_freq_000\": 0.0, \"word_freq_credit\": 0.0, \"word_freq_free\": 0.0, \"capital_run_length_longest\": 18.0, \"is_spam\": 0}, {\"word_freq_000\": 0.0, \"word_freq_credit\": 0.0, \"word_freq_free\": 0.0, \"capital_run_length_longest\": 8.0, \"is_spam\": 0}, {\"word_freq_000\": 0.0, \"word_freq_credit\": 0.0, \"word_freq_free\": 1.47, \"capital_run_length_longest\": 17.0, \"is_spam\": 0}, {\"word_freq_000\": 0.0, \"word_freq_credit\": 0.0, \"word_freq_free\": 0.0, \"capital_run_length_longest\": 1.0, \"is_spam\": 0}, {\"word_freq_000\": 0.0, \"word_freq_credit\": 0.0, \"word_freq_free\": 0.33, \"capital_run_length_longest\": 50.0, \"is_spam\": 1}, {\"word_freq_000\": 0.0, \"word_freq_credit\": 0.0, \"word_freq_free\": 0.0, \"capital_run_length_longest\": 11.0, \"is_spam\": 0}, {\"word_freq_000\": 0.0, \"word_freq_credit\": 0.0, \"word_freq_free\": 0.0, \"capital_run_length_longest\": 42.0, \"is_spam\": 0}, {\"word_freq_000\": 0.0, \"word_freq_credit\": 0.0, \"word_freq_free\": 0.0, \"capital_run_length_longest\": 51.0, \"is_spam\": 0}, {\"word_freq_000\": 0.0, \"word_freq_credit\": 0.0, \"word_freq_free\": 0.0, \"capital_run_length_longest\": 4.0, \"is_spam\": 0}, {\"word_freq_000\": 0.0, \"word_freq_credit\": 0.0, \"word_freq_free\": 0.0, \"capital_run_length_longest\": 40.0, \"is_spam\": 0}, {\"word_freq_000\": 0.0, \"word_freq_credit\": 0.0, \"word_freq_free\": 1.01, \"capital_run_length_longest\": 55.0, \"is_spam\": 0}, {\"word_freq_000\": 0.0, \"word_freq_credit\": 0.0, \"word_freq_free\": 0.0, \"capital_run_length_longest\": 5.0, \"is_spam\": 0}, {\"word_freq_000\": 0.0, \"word_freq_credit\": 0.0, \"word_freq_free\": 0.0, \"capital_run_length_longest\": 1.0, \"is_spam\": 0}, {\"word_freq_000\": 0.82, \"word_freq_credit\": 0.0, \"word_freq_free\": 0.41, \"capital_run_length_longest\": 335.0, \"is_spam\": 1}, {\"word_freq_000\": 0.0, \"word_freq_credit\": 0.0, \"word_freq_free\": 0.0, \"capital_run_length_longest\": 5.0, \"is_spam\": 0}, {\"word_freq_000\": 0.0, \"word_freq_credit\": 0.0, \"word_freq_free\": 0.0, \"capital_run_length_longest\": 2.0, \"is_spam\": 0}, {\"word_freq_000\": 0.0, \"word_freq_credit\": 0.0, \"word_freq_free\": 0.0, \"capital_run_length_longest\": 5.0, \"is_spam\": 0}, {\"word_freq_000\": 0.0, \"word_freq_credit\": 0.0, \"word_freq_free\": 0.0, \"capital_run_length_longest\": 1.0, \"is_spam\": 0}, {\"word_freq_000\": 0.0, \"word_freq_credit\": 0.0, \"word_freq_free\": 6.25, \"capital_run_length_longest\": 14.0, \"is_spam\": 1}, {\"word_freq_000\": 0.0, \"word_freq_credit\": 0.0, \"word_freq_free\": 0.0, \"capital_run_length_longest\": 13.0, \"is_spam\": 0}, {\"word_freq_000\": 0.0, \"word_freq_credit\": 0.0, \"word_freq_free\": 0.0, \"capital_run_length_longest\": 4.0, \"is_spam\": 0}, {\"word_freq_000\": 0.0, \"word_freq_credit\": 0.0, \"word_freq_free\": 0.0, \"capital_run_length_longest\": 13.0, \"is_spam\": 0}, {\"word_freq_000\": 0.0, \"word_freq_credit\": 0.39, \"word_freq_free\": 0.0, \"capital_run_length_longest\": 13.0, \"is_spam\": 0}, {\"word_freq_000\": 0.0, \"word_freq_credit\": 0.0, \"word_freq_free\": 0.0, \"capital_run_length_longest\": 51.0, \"is_spam\": 1}, {\"word_freq_000\": 0.0, \"word_freq_credit\": 0.0, \"word_freq_free\": 0.0, \"capital_run_length_longest\": 10.0, \"is_spam\": 0}, {\"word_freq_000\": 0.0, \"word_freq_credit\": 0.0, \"word_freq_free\": 0.0, \"capital_run_length_longest\": 12.0, \"is_spam\": 0}, {\"word_freq_000\": 0.0, \"word_freq_credit\": 0.0, \"word_freq_free\": 2.94, \"capital_run_length_longest\": 12.0, \"is_spam\": 1}, {\"word_freq_000\": 0.0, \"word_freq_credit\": 0.0, \"word_freq_free\": 0.0, \"capital_run_length_longest\": 38.0, \"is_spam\": 0}, {\"word_freq_000\": 0.0, \"word_freq_credit\": 0.0, \"word_freq_free\": 0.99, \"capital_run_length_longest\": 14.0, \"is_spam\": 0}, {\"word_freq_000\": 0.0, \"word_freq_credit\": 0.12, \"word_freq_free\": 0.0, \"capital_run_length_longest\": 84.0, \"is_spam\": 1}, {\"word_freq_000\": 0.0, \"word_freq_credit\": 0.0, \"word_freq_free\": 0.0, \"capital_run_length_longest\": 22.0, \"is_spam\": 0}, {\"word_freq_000\": 0.0, \"word_freq_credit\": 0.0, \"word_freq_free\": 0.0, \"capital_run_length_longest\": 15.0, \"is_spam\": 0}, {\"word_freq_000\": 0.74, \"word_freq_credit\": 0.23, \"word_freq_free\": 0.0, \"capital_run_length_longest\": 51.0, \"is_spam\": 1}, {\"word_freq_000\": 0.0, \"word_freq_credit\": 0.0, \"word_freq_free\": 0.0, \"capital_run_length_longest\": 1.0, \"is_spam\": 0}, {\"word_freq_000\": 0.0, \"word_freq_credit\": 0.0, \"word_freq_free\": 0.5, \"capital_run_length_longest\": 18.0, \"is_spam\": 1}, {\"word_freq_000\": 0.0, \"word_freq_credit\": 0.0, \"word_freq_free\": 0.88, \"capital_run_length_longest\": 7.0, \"is_spam\": 1}, {\"word_freq_000\": 0.0, \"word_freq_credit\": 0.0, \"word_freq_free\": 0.0, \"capital_run_length_longest\": 22.0, \"is_spam\": 1}, {\"word_freq_000\": 0.0, \"word_freq_credit\": 0.0, \"word_freq_free\": 0.0, \"capital_run_length_longest\": 7.0, \"is_spam\": 0}, {\"word_freq_000\": 0.0, \"word_freq_credit\": 0.0, \"word_freq_free\": 0.0, \"capital_run_length_longest\": 4.0, \"is_spam\": 0}, {\"word_freq_000\": 0.97, \"word_freq_credit\": 0.0, \"word_freq_free\": 0.23, \"capital_run_length_longest\": 144.0, \"is_spam\": 1}, {\"word_freq_000\": 0.0, \"word_freq_credit\": 0.0, \"word_freq_free\": 0.0, \"capital_run_length_longest\": 65.0, \"is_spam\": 0}, {\"word_freq_000\": 0.74, \"word_freq_credit\": 0.0, \"word_freq_free\": 0.74, \"capital_run_length_longest\": 7.0, \"is_spam\": 1}, {\"word_freq_000\": 0.0, \"word_freq_credit\": 0.0, \"word_freq_free\": 0.81, \"capital_run_length_longest\": 20.0, \"is_spam\": 1}, {\"word_freq_000\": 0.0, \"word_freq_credit\": 0.0, \"word_freq_free\": 4.0, \"capital_run_length_longest\": 26.0, \"is_spam\": 1}, {\"word_freq_000\": 0.0, \"word_freq_credit\": 0.0, \"word_freq_free\": 0.0, \"capital_run_length_longest\": 15.0, \"is_spam\": 0}, {\"word_freq_000\": 0.0, \"word_freq_credit\": 0.37, \"word_freq_free\": 0.74, \"capital_run_length_longest\": 18.0, \"is_spam\": 1}, {\"word_freq_000\": 0.0, \"word_freq_credit\": 0.0, \"word_freq_free\": 0.54, \"capital_run_length_longest\": 16.0, \"is_spam\": 1}, {\"word_freq_000\": 0.0, \"word_freq_credit\": 0.5, \"word_freq_free\": 0.1, \"capital_run_length_longest\": 56.0, \"is_spam\": 1}, {\"word_freq_000\": 0.0, \"word_freq_credit\": 0.0, \"word_freq_free\": 0.0, \"capital_run_length_longest\": 8.0, \"is_spam\": 0}, {\"word_freq_000\": 0.0, \"word_freq_credit\": 0.0, \"word_freq_free\": 1.92, \"capital_run_length_longest\": 5.0, \"is_spam\": 0}, {\"word_freq_000\": 0.0, \"word_freq_credit\": 0.0, \"word_freq_free\": 0.0, \"capital_run_length_longest\": 29.0, \"is_spam\": 0}, {\"word_freq_000\": 0.0, \"word_freq_credit\": 0.0, \"word_freq_free\": 0.0, \"capital_run_length_longest\": 12.0, \"is_spam\": 1}, {\"word_freq_000\": 0.0, \"word_freq_credit\": 0.0, \"word_freq_free\": 0.0, \"capital_run_length_longest\": 11.0, \"is_spam\": 1}, {\"word_freq_000\": 0.0, \"word_freq_credit\": 0.0, \"word_freq_free\": 0.0, \"capital_run_length_longest\": 10.0, \"is_spam\": 0}, {\"word_freq_000\": 1.28, \"word_freq_credit\": 0.21, \"word_freq_free\": 0.0, \"capital_run_length_longest\": 58.0, \"is_spam\": 1}, {\"word_freq_000\": 0.0, \"word_freq_credit\": 0.0, \"word_freq_free\": 0.0, \"capital_run_length_longest\": 4.0, \"is_spam\": 0}, {\"word_freq_000\": 0.0, \"word_freq_credit\": 0.0, \"word_freq_free\": 0.0, \"capital_run_length_longest\": 1.0, \"is_spam\": 0}, {\"word_freq_000\": 2.12, \"word_freq_credit\": 0.0, \"word_freq_free\": 0.0, \"capital_run_length_longest\": 5.0, \"is_spam\": 0}, {\"word_freq_000\": 0.0, \"word_freq_credit\": 0.0, \"word_freq_free\": 0.0, \"capital_run_length_longest\": 8.0, \"is_spam\": 0}, {\"word_freq_000\": 0.0, \"word_freq_credit\": 0.0, \"word_freq_free\": 0.3, \"capital_run_length_longest\": 11.0, \"is_spam\": 1}, {\"word_freq_000\": 0.0, \"word_freq_credit\": 0.0, \"word_freq_free\": 0.0, \"capital_run_length_longest\": 10.0, \"is_spam\": 0}, {\"word_freq_000\": 0.0, \"word_freq_credit\": 0.0, \"word_freq_free\": 0.0, \"capital_run_length_longest\": 17.0, \"is_spam\": 0}, {\"word_freq_000\": 0.0, \"word_freq_credit\": 0.99, \"word_freq_free\": 0.0, \"capital_run_length_longest\": 1146.0, \"is_spam\": 1}, {\"word_freq_000\": 0.0, \"word_freq_credit\": 0.0, \"word_freq_free\": 0.0, \"capital_run_length_longest\": 33.0, \"is_spam\": 1}, {\"word_freq_000\": 0.0, \"word_freq_credit\": 0.0, \"word_freq_free\": 0.0, \"capital_run_length_longest\": 13.0, \"is_spam\": 0}, {\"word_freq_000\": 0.0, \"word_freq_credit\": 0.0, \"word_freq_free\": 0.0, \"capital_run_length_longest\": 40.0, \"is_spam\": 0}, {\"word_freq_000\": 0.0, \"word_freq_credit\": 0.0, \"word_freq_free\": 0.0, \"capital_run_length_longest\": 12.0, \"is_spam\": 1}, {\"word_freq_000\": 0.0, \"word_freq_credit\": 0.0, \"word_freq_free\": 0.0, \"capital_run_length_longest\": 124.0, \"is_spam\": 1}, {\"word_freq_000\": 0.0, \"word_freq_credit\": 0.0, \"word_freq_free\": 0.0, \"capital_run_length_longest\": 5.0, \"is_spam\": 0}, {\"word_freq_000\": 0.0, \"word_freq_credit\": 0.0, \"word_freq_free\": 0.0, \"capital_run_length_longest\": 16.0, \"is_spam\": 0}, {\"word_freq_000\": 0.0, \"word_freq_credit\": 0.0, \"word_freq_free\": 0.0, \"capital_run_length_longest\": 24.0, \"is_spam\": 0}, {\"word_freq_000\": 0.0, \"word_freq_credit\": 0.0, \"word_freq_free\": 0.0, \"capital_run_length_longest\": 27.0, \"is_spam\": 1}, {\"word_freq_000\": 0.0, \"word_freq_credit\": 0.0, \"word_freq_free\": 0.0, \"capital_run_length_longest\": 60.0, \"is_spam\": 1}, {\"word_freq_000\": 0.0, \"word_freq_credit\": 0.0, \"word_freq_free\": 0.0, \"capital_run_length_longest\": 5.0, \"is_spam\": 0}, {\"word_freq_000\": 0.0, \"word_freq_credit\": 0.0, \"word_freq_free\": 0.74, \"capital_run_length_longest\": 12.0, \"is_spam\": 1}, {\"word_freq_000\": 0.0, \"word_freq_credit\": 0.0, \"word_freq_free\": 0.0, \"capital_run_length_longest\": 3.0, \"is_spam\": 0}, {\"word_freq_000\": 0.0, \"word_freq_credit\": 0.0, \"word_freq_free\": 3.33, \"capital_run_length_longest\": 5.0, \"is_spam\": 1}, {\"word_freq_000\": 0.0, \"word_freq_credit\": 0.0, \"word_freq_free\": 0.0, \"capital_run_length_longest\": 76.0, \"is_spam\": 0}, {\"word_freq_000\": 0.0, \"word_freq_credit\": 0.0, \"word_freq_free\": 0.0, \"capital_run_length_longest\": 7.0, \"is_spam\": 0}, {\"word_freq_000\": 0.0, \"word_freq_credit\": 0.0, \"word_freq_free\": 0.0, \"capital_run_length_longest\": 4.0, \"is_spam\": 0}, {\"word_freq_000\": 0.0, \"word_freq_credit\": 0.0, \"word_freq_free\": 0.0, \"capital_run_length_longest\": 5.0, \"is_spam\": 0}, {\"word_freq_000\": 0.0, \"word_freq_credit\": 0.0, \"word_freq_free\": 0.0, \"capital_run_length_longest\": 47.0, \"is_spam\": 0}, {\"word_freq_000\": 0.05, \"word_freq_credit\": 0.0, \"word_freq_free\": 0.0, \"capital_run_length_longest\": 49.0, \"is_spam\": 0}, {\"word_freq_000\": 1.02, \"word_freq_credit\": 0.0, \"word_freq_free\": 0.26, \"capital_run_length_longest\": 193.0, \"is_spam\": 1}, {\"word_freq_000\": 0.0, \"word_freq_credit\": 0.0, \"word_freq_free\": 0.0, \"capital_run_length_longest\": 6.0, \"is_spam\": 1}, {\"word_freq_000\": 0.0, \"word_freq_credit\": 0.0, \"word_freq_free\": 0.0, \"capital_run_length_longest\": 14.0, \"is_spam\": 0}, {\"word_freq_000\": 0.0, \"word_freq_credit\": 0.0, \"word_freq_free\": 0.0, \"capital_run_length_longest\": 4.0, \"is_spam\": 0}, {\"word_freq_000\": 0.0, \"word_freq_credit\": 0.0, \"word_freq_free\": 0.0, \"capital_run_length_longest\": 4.0, \"is_spam\": 0}, {\"word_freq_000\": 0.0, \"word_freq_credit\": 0.0, \"word_freq_free\": 0.0, \"capital_run_length_longest\": 70.0, \"is_spam\": 1}, {\"word_freq_000\": 0.0, \"word_freq_credit\": 0.0, \"word_freq_free\": 0.0, \"capital_run_length_longest\": 1.0, \"is_spam\": 0}, {\"word_freq_000\": 0.0, \"word_freq_credit\": 0.0, \"word_freq_free\": 0.0, \"capital_run_length_longest\": 5.0, \"is_spam\": 0}, {\"word_freq_000\": 0.0, \"word_freq_credit\": 0.0, \"word_freq_free\": 2.22, \"capital_run_length_longest\": 11.0, \"is_spam\": 1}, {\"word_freq_000\": 0.0, \"word_freq_credit\": 0.0, \"word_freq_free\": 0.0, \"capital_run_length_longest\": 110.0, \"is_spam\": 1}, {\"word_freq_000\": 0.0, \"word_freq_credit\": 0.0, \"word_freq_free\": 0.0, \"capital_run_length_longest\": 1.0, \"is_spam\": 0}, {\"word_freq_000\": 0.0, \"word_freq_credit\": 0.0, \"word_freq_free\": 0.0, \"capital_run_length_longest\": 29.0, \"is_spam\": 1}, {\"word_freq_000\": 0.0, \"word_freq_credit\": 0.0, \"word_freq_free\": 0.0, \"capital_run_length_longest\": 12.0, \"is_spam\": 0}, {\"word_freq_000\": 0.0, \"word_freq_credit\": 0.0, \"word_freq_free\": 0.0, \"capital_run_length_longest\": 15.0, \"is_spam\": 1}, {\"word_freq_000\": 0.39, \"word_freq_credit\": 0.0, \"word_freq_free\": 0.39, \"capital_run_length_longest\": 55.0, \"is_spam\": 0}, {\"word_freq_000\": 0.0, \"word_freq_credit\": 0.0, \"word_freq_free\": 1.4, \"capital_run_length_longest\": 1.0, \"is_spam\": 1}, {\"word_freq_000\": 0.0, \"word_freq_credit\": 0.0, \"word_freq_free\": 0.56, \"capital_run_length_longest\": 34.0, \"is_spam\": 1}, {\"word_freq_000\": 0.0, \"word_freq_credit\": 0.09, \"word_freq_free\": 0.0, \"capital_run_length_longest\": 54.0, \"is_spam\": 1}, {\"word_freq_000\": 1.31, \"word_freq_credit\": 0.0, \"word_freq_free\": 0.0, \"capital_run_length_longest\": 47.0, \"is_spam\": 1}, {\"word_freq_000\": 0.0, \"word_freq_credit\": 0.0, \"word_freq_free\": 0.0, \"capital_run_length_longest\": 13.0, \"is_spam\": 0}, {\"word_freq_000\": 0.39, \"word_freq_credit\": 0.0, \"word_freq_free\": 0.25, \"capital_run_length_longest\": 266.0, \"is_spam\": 1}, {\"word_freq_000\": 0.0, \"word_freq_credit\": 0.0, \"word_freq_free\": 0.0, \"capital_run_length_longest\": 1.0, \"is_spam\": 0}, {\"word_freq_000\": 0.0, \"word_freq_credit\": 0.0, \"word_freq_free\": 4.54, \"capital_run_length_longest\": 4.0, \"is_spam\": 1}, {\"word_freq_000\": 0.0, \"word_freq_credit\": 0.0, \"word_freq_free\": 0.0, \"capital_run_length_longest\": 11.0, \"is_spam\": 0}, {\"word_freq_000\": 0.0, \"word_freq_credit\": 0.0, \"word_freq_free\": 0.0, \"capital_run_length_longest\": 12.0, \"is_spam\": 0}, {\"word_freq_000\": 0.0, \"word_freq_credit\": 0.0, \"word_freq_free\": 0.0, \"capital_run_length_longest\": 20.0, \"is_spam\": 0}, {\"word_freq_000\": 0.0, \"word_freq_credit\": 0.0, \"word_freq_free\": 0.0, \"capital_run_length_longest\": 43.0, \"is_spam\": 0}, {\"word_freq_000\": 0.0, \"word_freq_credit\": 0.0, \"word_freq_free\": 0.0, \"capital_run_length_longest\": 6.0, \"is_spam\": 0}, {\"word_freq_000\": 1.08, \"word_freq_credit\": 0.0, \"word_freq_free\": 0.0, \"capital_run_length_longest\": 23.0, \"is_spam\": 1}, {\"word_freq_000\": 0.0, \"word_freq_credit\": 0.0, \"word_freq_free\": 0.0, \"capital_run_length_longest\": 14.0, \"is_spam\": 0}, {\"word_freq_000\": 0.0, \"word_freq_credit\": 0.0, \"word_freq_free\": 0.0, \"capital_run_length_longest\": 22.0, \"is_spam\": 1}, {\"word_freq_000\": 0.0, \"word_freq_credit\": 0.0, \"word_freq_free\": 0.0, \"capital_run_length_longest\": 3.0, \"is_spam\": 0}, {\"word_freq_000\": 0.96, \"word_freq_credit\": 0.0, \"word_freq_free\": 0.96, \"capital_run_length_longest\": 61.0, \"is_spam\": 1}, {\"word_freq_000\": 0.86, \"word_freq_credit\": 0.0, \"word_freq_free\": 0.86, \"capital_run_length_longest\": 7.0, \"is_spam\": 1}, {\"word_freq_000\": 0.0, \"word_freq_credit\": 0.0, \"word_freq_free\": 0.0, \"capital_run_length_longest\": 5.0, \"is_spam\": 0}, {\"word_freq_000\": 0.0, \"word_freq_credit\": 0.0, \"word_freq_free\": 0.0, \"capital_run_length_longest\": 47.0, \"is_spam\": 0}, {\"word_freq_000\": 0.0, \"word_freq_credit\": 0.0, \"word_freq_free\": 0.0, \"capital_run_length_longest\": 10.0, \"is_spam\": 0}, {\"word_freq_000\": 0.0, \"word_freq_credit\": 0.0, \"word_freq_free\": 0.0, \"capital_run_length_longest\": 4.0, \"is_spam\": 0}, {\"word_freq_000\": 0.0, \"word_freq_credit\": 0.0, \"word_freq_free\": 0.0, \"capital_run_length_longest\": 46.0, \"is_spam\": 0}, {\"word_freq_000\": 0.0, \"word_freq_credit\": 0.0, \"word_freq_free\": 0.0, \"capital_run_length_longest\": 18.0, \"is_spam\": 0}, {\"word_freq_000\": 0.0, \"word_freq_credit\": 0.0, \"word_freq_free\": 0.6, \"capital_run_length_longest\": 15.0, \"is_spam\": 0}, {\"word_freq_000\": 0.0, \"word_freq_credit\": 0.0, \"word_freq_free\": 0.0, \"capital_run_length_longest\": 1.0, \"is_spam\": 0}, {\"word_freq_000\": 0.0, \"word_freq_credit\": 0.0, \"word_freq_free\": 0.0, \"capital_run_length_longest\": 1.0, \"is_spam\": 0}, {\"word_freq_000\": 0.0, \"word_freq_credit\": 0.0, \"word_freq_free\": 0.0, \"capital_run_length_longest\": 25.0, \"is_spam\": 0}, {\"word_freq_000\": 0.0, \"word_freq_credit\": 0.0, \"word_freq_free\": 0.46, \"capital_run_length_longest\": 42.0, \"is_spam\": 1}, {\"word_freq_000\": 0.0, \"word_freq_credit\": 0.0, \"word_freq_free\": 0.0, \"capital_run_length_longest\": 4.0, \"is_spam\": 0}, {\"word_freq_000\": 0.0, \"word_freq_credit\": 0.0, \"word_freq_free\": 0.0, \"capital_run_length_longest\": 22.0, \"is_spam\": 0}, {\"word_freq_000\": 0.0, \"word_freq_credit\": 0.0, \"word_freq_free\": 0.0, \"capital_run_length_longest\": 17.0, \"is_spam\": 0}, {\"word_freq_000\": 0.0, \"word_freq_credit\": 0.0, \"word_freq_free\": 0.0, \"capital_run_length_longest\": 1.0, \"is_spam\": 0}, {\"word_freq_000\": 0.0, \"word_freq_credit\": 0.0, \"word_freq_free\": 0.0, \"capital_run_length_longest\": 50.0, \"is_spam\": 0}, {\"word_freq_000\": 0.0, \"word_freq_credit\": 0.0, \"word_freq_free\": 0.0, \"capital_run_length_longest\": 4.0, \"is_spam\": 0}, {\"word_freq_000\": 0.0, \"word_freq_credit\": 0.0, \"word_freq_free\": 0.0, \"capital_run_length_longest\": 1.0, \"is_spam\": 0}, {\"word_freq_000\": 0.0, \"word_freq_credit\": 0.0, \"word_freq_free\": 1.85, \"capital_run_length_longest\": 13.0, \"is_spam\": 1}, {\"word_freq_000\": 0.0, \"word_freq_credit\": 0.0, \"word_freq_free\": 1.4, \"capital_run_length_longest\": 21.0, \"is_spam\": 1}, {\"word_freq_000\": 0.48, \"word_freq_credit\": 0.0, \"word_freq_free\": 0.0, \"capital_run_length_longest\": 80.0, \"is_spam\": 1}, {\"word_freq_000\": 0.0, \"word_freq_credit\": 0.0, \"word_freq_free\": 0.0, \"capital_run_length_longest\": 15.0, \"is_spam\": 1}, {\"word_freq_000\": 0.0, \"word_freq_credit\": 0.0, \"word_freq_free\": 0.0, \"capital_run_length_longest\": 10.0, \"is_spam\": 0}, {\"word_freq_000\": 0.0, \"word_freq_credit\": 0.0, \"word_freq_free\": 0.0, \"capital_run_length_longest\": 11.0, \"is_spam\": 0}, {\"word_freq_000\": 0.0, \"word_freq_credit\": 0.0, \"word_freq_free\": 0.0, \"capital_run_length_longest\": 5.0, \"is_spam\": 1}, {\"word_freq_000\": 0.0, \"word_freq_credit\": 0.0, \"word_freq_free\": 0.0, \"capital_run_length_longest\": 247.0, \"is_spam\": 1}, {\"word_freq_000\": 0.0, \"word_freq_credit\": 0.0, \"word_freq_free\": 0.48, \"capital_run_length_longest\": 61.0, \"is_spam\": 1}, {\"word_freq_000\": 0.0, \"word_freq_credit\": 0.0, \"word_freq_free\": 0.0, \"capital_run_length_longest\": 17.0, \"is_spam\": 0}, {\"word_freq_000\": 0.0, \"word_freq_credit\": 0.0, \"word_freq_free\": 0.0, \"capital_run_length_longest\": 57.0, \"is_spam\": 0}, {\"word_freq_000\": 0.0, \"word_freq_credit\": 0.0, \"word_freq_free\": 0.0, \"capital_run_length_longest\": 6.0, \"is_spam\": 0}, {\"word_freq_000\": 0.0, \"word_freq_credit\": 0.0, \"word_freq_free\": 0.0, \"capital_run_length_longest\": 13.0, \"is_spam\": 0}, {\"word_freq_000\": 0.0, \"word_freq_credit\": 0.0, \"word_freq_free\": 0.0, \"capital_run_length_longest\": 8.0, \"is_spam\": 0}, {\"word_freq_000\": 0.0, \"word_freq_credit\": 0.0, \"word_freq_free\": 0.0, \"capital_run_length_longest\": 15.0, \"is_spam\": 0}, {\"word_freq_000\": 1.96, \"word_freq_credit\": 0.0, \"word_freq_free\": 0.0, \"capital_run_length_longest\": 59.0, \"is_spam\": 1}, {\"word_freq_000\": 0.0, \"word_freq_credit\": 0.0, \"word_freq_free\": 0.0, \"capital_run_length_longest\": 12.0, \"is_spam\": 0}, {\"word_freq_000\": 0.0, \"word_freq_credit\": 0.0, \"word_freq_free\": 0.0, \"capital_run_length_longest\": 24.0, \"is_spam\": 0}, {\"word_freq_000\": 1.88, \"word_freq_credit\": 0.0, \"word_freq_free\": 2.83, \"capital_run_length_longest\": 245.0, \"is_spam\": 1}, {\"word_freq_000\": 0.0, \"word_freq_credit\": 0.0, \"word_freq_free\": 0.0, \"capital_run_length_longest\": 2.0, \"is_spam\": 0}, {\"word_freq_000\": 1.23, \"word_freq_credit\": 0.92, \"word_freq_free\": 0.0, \"capital_run_length_longest\": 60.0, \"is_spam\": 1}, {\"word_freq_000\": 0.0, \"word_freq_credit\": 0.0, \"word_freq_free\": 0.0, \"capital_run_length_longest\": 42.0, \"is_spam\": 0}, {\"word_freq_000\": 0.0, \"word_freq_credit\": 0.0, \"word_freq_free\": 0.0, \"capital_run_length_longest\": 13.0, \"is_spam\": 1}, {\"word_freq_000\": 0.0, \"word_freq_credit\": 0.0, \"word_freq_free\": 0.0, \"capital_run_length_longest\": 8.0, \"is_spam\": 0}, {\"word_freq_000\": 0.0, \"word_freq_credit\": 0.0, \"word_freq_free\": 6.45, \"capital_run_length_longest\": 1.0, \"is_spam\": 1}, {\"word_freq_000\": 1.1, \"word_freq_credit\": 0.16, \"word_freq_free\": 0.08, \"capital_run_length_longest\": 669.0, \"is_spam\": 1}, {\"word_freq_000\": 0.0, \"word_freq_credit\": 0.0, \"word_freq_free\": 0.0, \"capital_run_length_longest\": 5.0, \"is_spam\": 0}, {\"word_freq_000\": 0.0, \"word_freq_credit\": 0.0, \"word_freq_free\": 0.0, \"capital_run_length_longest\": 16.0, \"is_spam\": 1}, {\"word_freq_000\": 0.0, \"word_freq_credit\": 0.0, \"word_freq_free\": 1.72, \"capital_run_length_longest\": 56.0, \"is_spam\": 1}, {\"word_freq_000\": 0.0, \"word_freq_credit\": 0.0, \"word_freq_free\": 0.0, \"capital_run_length_longest\": 7.0, \"is_spam\": 0}, {\"word_freq_000\": 0.0, \"word_freq_credit\": 0.0, \"word_freq_free\": 0.3, \"capital_run_length_longest\": 11.0, \"is_spam\": 1}, {\"word_freq_000\": 0.0, \"word_freq_credit\": 0.0, \"word_freq_free\": 0.0, \"capital_run_length_longest\": 18.0, \"is_spam\": 0}, {\"word_freq_000\": 0.0, \"word_freq_credit\": 0.0, \"word_freq_free\": 0.48, \"capital_run_length_longest\": 21.0, \"is_spam\": 0}, {\"word_freq_000\": 0.0, \"word_freq_credit\": 0.0, \"word_freq_free\": 1.74, \"capital_run_length_longest\": 52.0, \"is_spam\": 1}, {\"word_freq_000\": 0.0, \"word_freq_credit\": 0.16, \"word_freq_free\": 0.49, \"capital_run_length_longest\": 113.0, \"is_spam\": 1}, {\"word_freq_000\": 0.0, \"word_freq_credit\": 0.5, \"word_freq_free\": 0.1, \"capital_run_length_longest\": 56.0, \"is_spam\": 1}, {\"word_freq_000\": 0.0, \"word_freq_credit\": 0.0, \"word_freq_free\": 0.0, \"capital_run_length_longest\": 16.0, \"is_spam\": 0}, {\"word_freq_000\": 0.0, \"word_freq_credit\": 0.0, \"word_freq_free\": 0.0, \"capital_run_length_longest\": 6.0, \"is_spam\": 0}, {\"word_freq_000\": 0.0, \"word_freq_credit\": 0.0, \"word_freq_free\": 0.0, \"capital_run_length_longest\": 1.0, \"is_spam\": 0}, {\"word_freq_000\": 0.0, \"word_freq_credit\": 0.34, \"word_freq_free\": 0.68, \"capital_run_length_longest\": 17.0, \"is_spam\": 1}, {\"word_freq_000\": 0.0, \"word_freq_credit\": 0.0, \"word_freq_free\": 0.0, \"capital_run_length_longest\": 11.0, \"is_spam\": 0}, {\"word_freq_000\": 0.0, \"word_freq_credit\": 0.0, \"word_freq_free\": 0.0, \"capital_run_length_longest\": 4.0, \"is_spam\": 0}, {\"word_freq_000\": 0.0, \"word_freq_credit\": 0.0, \"word_freq_free\": 0.0, \"capital_run_length_longest\": 17.0, \"is_spam\": 0}, {\"word_freq_000\": 0.0, \"word_freq_credit\": 0.0, \"word_freq_free\": 1.72, \"capital_run_length_longest\": 12.0, \"is_spam\": 1}, {\"word_freq_000\": 0.0, \"word_freq_credit\": 0.0, \"word_freq_free\": 0.43, \"capital_run_length_longest\": 46.0, \"is_spam\": 1}, {\"word_freq_000\": 0.0, \"word_freq_credit\": 0.0, \"word_freq_free\": 0.0, \"capital_run_length_longest\": 8.0, \"is_spam\": 0}, {\"word_freq_000\": 0.0, \"word_freq_credit\": 0.0, \"word_freq_free\": 0.4, \"capital_run_length_longest\": 70.0, \"is_spam\": 0}, {\"word_freq_000\": 0.0, \"word_freq_credit\": 0.0, \"word_freq_free\": 0.0, \"capital_run_length_longest\": 10.0, \"is_spam\": 0}, {\"word_freq_000\": 0.17, \"word_freq_credit\": 0.0, \"word_freq_free\": 0.0, \"capital_run_length_longest\": 85.0, \"is_spam\": 1}, {\"word_freq_000\": 0.4, \"word_freq_credit\": 0.0, \"word_freq_free\": 0.4, \"capital_run_length_longest\": 18.0, \"is_spam\": 1}, {\"word_freq_000\": 0.0, \"word_freq_credit\": 0.0, \"word_freq_free\": 0.0, \"capital_run_length_longest\": 23.0, \"is_spam\": 1}, {\"word_freq_000\": 0.0, \"word_freq_credit\": 0.34, \"word_freq_free\": 0.68, \"capital_run_length_longest\": 17.0, \"is_spam\": 1}, {\"word_freq_000\": 0.0, \"word_freq_credit\": 0.0, \"word_freq_free\": 0.0, \"capital_run_length_longest\": 1.0, \"is_spam\": 0}, {\"word_freq_000\": 0.0, \"word_freq_credit\": 0.0, \"word_freq_free\": 0.0, \"capital_run_length_longest\": 5.0, \"is_spam\": 0}, {\"word_freq_000\": 0.0, \"word_freq_credit\": 0.0, \"word_freq_free\": 0.0, \"capital_run_length_longest\": 20.0, \"is_spam\": 0}, {\"word_freq_000\": 0.0, \"word_freq_credit\": 0.0, \"word_freq_free\": 0.0, \"capital_run_length_longest\": 16.0, \"is_spam\": 0}, {\"word_freq_000\": 0.0, \"word_freq_credit\": 0.0, \"word_freq_free\": 0.0, \"capital_run_length_longest\": 6.0, \"is_spam\": 0}, {\"word_freq_000\": 0.0, \"word_freq_credit\": 0.0, \"word_freq_free\": 0.47, \"capital_run_length_longest\": 4.0, \"is_spam\": 0}, {\"word_freq_000\": 0.72, \"word_freq_credit\": 0.0, \"word_freq_free\": 0.6, \"capital_run_length_longest\": 54.0, \"is_spam\": 1}, {\"word_freq_000\": 0.0, \"word_freq_credit\": 0.0, \"word_freq_free\": 0.0, \"capital_run_length_longest\": 2.0, \"is_spam\": 0}, {\"word_freq_000\": 0.0, \"word_freq_credit\": 0.0, \"word_freq_free\": 0.45, \"capital_run_length_longest\": 708.0, \"is_spam\": 1}, {\"word_freq_000\": 0.0, \"word_freq_credit\": 0.0, \"word_freq_free\": 0.0, \"capital_run_length_longest\": 5.0, \"is_spam\": 0}, {\"word_freq_000\": 0.0, \"word_freq_credit\": 0.0, \"word_freq_free\": 0.0, \"capital_run_length_longest\": 53.0, \"is_spam\": 1}, {\"word_freq_000\": 0.0, \"word_freq_credit\": 0.0, \"word_freq_free\": 0.0, \"capital_run_length_longest\": 2.0, \"is_spam\": 0}, {\"word_freq_000\": 0.0, \"word_freq_credit\": 0.0, \"word_freq_free\": 0.0, \"capital_run_length_longest\": 18.0, \"is_spam\": 0}, {\"word_freq_000\": 0.0, \"word_freq_credit\": 0.0, \"word_freq_free\": 0.12, \"capital_run_length_longest\": 5.0, \"is_spam\": 0}, {\"word_freq_000\": 0.79, \"word_freq_credit\": 0.17, \"word_freq_free\": 0.62, \"capital_run_length_longest\": 583.0, \"is_spam\": 1}, {\"word_freq_000\": 0.0, \"word_freq_credit\": 0.0, \"word_freq_free\": 0.0, \"capital_run_length_longest\": 3.0, \"is_spam\": 0}, {\"word_freq_000\": 0.0, \"word_freq_credit\": 0.0, \"word_freq_free\": 0.0, \"capital_run_length_longest\": 10.0, \"is_spam\": 0}, {\"word_freq_000\": 0.0, \"word_freq_credit\": 0.0, \"word_freq_free\": 0.0, \"capital_run_length_longest\": 18.0, \"is_spam\": 1}, {\"word_freq_000\": 0.0, \"word_freq_credit\": 0.0, \"word_freq_free\": 0.0, \"capital_run_length_longest\": 15.0, \"is_spam\": 0}, {\"word_freq_000\": 0.0, \"word_freq_credit\": 0.0, \"word_freq_free\": 0.0, \"capital_run_length_longest\": 15.0, \"is_spam\": 0}, {\"word_freq_000\": 0.0, \"word_freq_credit\": 0.0, \"word_freq_free\": 0.0, \"capital_run_length_longest\": 31.0, \"is_spam\": 1}, {\"word_freq_000\": 0.0, \"word_freq_credit\": 0.0, \"word_freq_free\": 0.0, \"capital_run_length_longest\": 735.0, \"is_spam\": 1}, {\"word_freq_000\": 0.0, \"word_freq_credit\": 0.0, \"word_freq_free\": 0.0, \"capital_run_length_longest\": 1.0, \"is_spam\": 0}, {\"word_freq_000\": 0.0, \"word_freq_credit\": 0.0, \"word_freq_free\": 0.0, \"capital_run_length_longest\": 200.0, \"is_spam\": 0}, {\"word_freq_000\": 0.91, \"word_freq_credit\": 0.16, \"word_freq_free\": 0.82, \"capital_run_length_longest\": 581.0, \"is_spam\": 1}, {\"word_freq_000\": 0.0, \"word_freq_credit\": 0.0, \"word_freq_free\": 0.0, \"capital_run_length_longest\": 34.0, \"is_spam\": 0}, {\"word_freq_000\": 0.0, \"word_freq_credit\": 0.0, \"word_freq_free\": 2.85, \"capital_run_length_longest\": 12.0, \"is_spam\": 1}, {\"word_freq_000\": 0.0, \"word_freq_credit\": 0.0, \"word_freq_free\": 0.0, \"capital_run_length_longest\": 11.0, \"is_spam\": 0}, {\"word_freq_000\": 0.0, \"word_freq_credit\": 0.0, \"word_freq_free\": 0.0, \"capital_run_length_longest\": 20.0, \"is_spam\": 0}, {\"word_freq_000\": 0.0, \"word_freq_credit\": 0.0, \"word_freq_free\": 2.94, \"capital_run_length_longest\": 12.0, \"is_spam\": 1}, {\"word_freq_000\": 0.0, \"word_freq_credit\": 0.19, \"word_freq_free\": 0.19, \"capital_run_length_longest\": 21.0, \"is_spam\": 0}, {\"word_freq_000\": 0.07, \"word_freq_credit\": 0.0, \"word_freq_free\": 1.12, \"capital_run_length_longest\": 94.0, \"is_spam\": 1}, {\"word_freq_000\": 0.0, \"word_freq_credit\": 0.0, \"word_freq_free\": 0.0, \"capital_run_length_longest\": 2.0, \"is_spam\": 0}, {\"word_freq_000\": 0.0, \"word_freq_credit\": 0.0, \"word_freq_free\": 0.3, \"capital_run_length_longest\": 70.0, \"is_spam\": 0}, {\"word_freq_000\": 0.0, \"word_freq_credit\": 0.16, \"word_freq_free\": 0.08, \"capital_run_length_longest\": 67.0, \"is_spam\": 1}]}}, {\"mode\": \"vega-lite\"});\n",
       "</script>"
      ],
      "text/plain": [
       "alt.Chart(...)"
      ]
     },
     "execution_count": 21,
     "metadata": {},
     "output_type": "execute_result"
    }
   ],
   "source": [
    "\n",
    "zeros_and_credit_scatter_plot = (\n",
    "    alt.Chart(\n",
    "        spam_train_predictors.sample(int(len(spam_train_predictors) / 5)), title=\"Word Frequency of \\\"000\\\" vs. \\'credit\\'\"\n",
    "    ).mark_point(opacity=0.5)\n",
    "    .encode(\n",
    "        x=alt.X(\n",
    "            \"word_freq_credit\",\n",
    "            title=\"Frequency of \\'credit\\'\",\n",
    "        ),\n",
    "        y=alt.Y(\n",
    "            \"word_freq_000\",\n",
    "            title=\"Frequency of \\'000\\'\",\n",
    "        ),\n",
    "        # color=alt.Color(\"is_spam\", legend=alt.Legend(title=\"Spam by colour and shape\", orient=\"left\"), scale=alt.Scale(scheme='dark2')),\n",
    "        # shape=\"is_spam\"\n",
    "    )\n",
    ")\n",
    "\n",
    "free_and_capital_scatter_plot = (\n",
    "    alt.Chart(\n",
    "        spam_train_predictors.sample(int(len(spam_train_predictors) / 5)), title=\"Word Frequency of \\'free\\' vs. Capital Run Length\"\n",
    "    ).mark_point(opacity=0.5)\n",
    "    .encode(\n",
    "        x=alt.X(\n",
    "            \"word_freq_free\",\n",
    "            title=\"Frequency of \\'free\\'\",\n",
    "        ),\n",
    "        y=alt.Y(\n",
    "            \"capital_run_length_longest\",\n",
    "            title=\"Capital Run Length\",\n",
    "        ),\n",
    "        # color=alt.Color(\"is_spam\", legend=alt.Legend(title=\"Spam by colour and shape\", orient=\"right\"), scale=alt.Scale(scheme='dark2')),\n",
    "        # shape=\"is_spam\"\n",
    "    )\n",
    ")\n",
    "\n",
    "free_and_capital_scatter_plot\n",
    "\n",
    "# predictor_scatter_plots = alt.hconcat(zeros_and_credit_scatter_plot, free_and_capital_scatter_plot)\n",
    "\n",
    "# predictor_scatter_plots\n",
    "\n"
   ]
  },
  {
   "cell_type": "code",
   "execution_count": 13,
   "id": "c2140c3a-06ec-4b1d-9cf4-a641a0e875c8",
   "metadata": {},
   "outputs": [
    {
     "data": {
      "text/html": [
       "<div>\n",
       "<style scoped>\n",
       "    .dataframe tbody tr th:only-of-type {\n",
       "        vertical-align: middle;\n",
       "    }\n",
       "\n",
       "    .dataframe tbody tr th {\n",
       "        vertical-align: top;\n",
       "    }\n",
       "\n",
       "    .dataframe thead th {\n",
       "        text-align: right;\n",
       "    }\n",
       "</style>\n",
       "<table border=\"1\" class=\"dataframe\">\n",
       "  <thead>\n",
       "    <tr style=\"text-align: right;\">\n",
       "      <th></th>\n",
       "      <th>variable</th>\n",
       "      <th>mean_value_spam</th>\n",
       "      <th>mean_value_non_spam</th>\n",
       "      <th>spam_non_spam_ratio</th>\n",
       "    </tr>\n",
       "  </thead>\n",
       "  <tbody>\n",
       "    <tr>\n",
       "      <th>22</th>\n",
       "      <td>word_freq_000</td>\n",
       "      <td>0.252281</td>\n",
       "      <td>0.007967</td>\n",
       "      <td>31.663851</td>\n",
       "    </tr>\n",
       "    <tr>\n",
       "      <th>19</th>\n",
       "      <td>word_freq_credit</td>\n",
       "      <td>0.205879</td>\n",
       "      <td>0.009297</td>\n",
       "      <td>22.144736</td>\n",
       "    </tr>\n",
       "    <tr>\n",
       "      <th>15</th>\n",
       "      <td>word_freq_free</td>\n",
       "      <td>0.535835</td>\n",
       "      <td>0.080646</td>\n",
       "      <td>6.644318</td>\n",
       "    </tr>\n",
       "    <tr>\n",
       "      <th>55</th>\n",
       "      <td>capital_run_length_longest</td>\n",
       "      <td>104.949963</td>\n",
       "      <td>18.715925</td>\n",
       "      <td>5.607522</td>\n",
       "    </tr>\n",
       "  </tbody>\n",
       "</table>\n",
       "</div>"
      ],
      "text/plain": [
       "                      variable  mean_value_spam  mean_value_non_spam  \\\n",
       "22               word_freq_000         0.252281             0.007967   \n",
       "19            word_freq_credit         0.205879             0.009297   \n",
       "15              word_freq_free         0.535835             0.080646   \n",
       "55  capital_run_length_longest       104.949963            18.715925   \n",
       "\n",
       "    spam_non_spam_ratio  \n",
       "22            31.663851  \n",
       "19            22.144736  \n",
       "15             6.644318  \n",
       "55             5.607522  "
      ]
     },
     "execution_count": 13,
     "metadata": {},
     "output_type": "execute_result"
    }
   ],
   "source": [
    "mean_val_predictors.head()"
   ]
  },
  {
   "cell_type": "markdown",
   "id": "37db88d4-b0d0-480c-830c-2b6d69a4b1c3",
   "metadata": {},
   "source": [
    "Additionally, we will also plot the differences in mean value for the predictor variables between spam and non-spam mail with a bar plot :"
   ]
  },
  {
   "cell_type": "code",
   "execution_count": 14,
   "id": "1e4af77a-b265-42eb-989d-adff1479c75b",
   "metadata": {},
   "outputs": [],
   "source": [
    "# ratio_bar_plot = (\n",
    "#     alt.Chart(\n",
    "#         mean_val_predictors, title=\"Mean Value of Predictor Values\"\n",
    "#     ).mark_bar(color='orange')\n",
    "#     .encode(\n",
    "#         x=alt.X(\n",
    "#             \"variable\",\n",
    "#             title=\"Predictor Variable\",\n",
    "#             sort='-y'\n",
    "#         ),\n",
    "#         y=alt.Y(\n",
    "#             \"spam_non_spam_ratio\",\n",
    "#             title=\"Mean Value\",\n",
    "#         ),\n",
    "#     )\n",
    "# )\n",
    "\n"
   ]
  },
  {
   "cell_type": "markdown",
   "id": "6c01cac3-4d00-46b7-9995-6c96f6a66cf1",
   "metadata": {},
   "source": [
    "### Methods of analysis\n",
    "We will use classification with a model that we build and test. We will then use the results to assess how well certain certain variables of an e-mail message can be used to correctly classify an e-mail as spam and non-spam.\n",
    "We chose four predictor variables we thought were indicative of whether an e-mail may be spam. We chose them because the mean values (mean of all the observed e-mails in the data set) of these variables showed large differences for spam and non-spam. Therefore, we believe high values for these variables are characteristic of spam mail and allow us to build an accurate prediction model using the `sklearn` package and the **KNN-Algorithm**. \n",
    "We will also verify the accuracy of our model by putting aside a testing set. To visualize our results, we will use line plots showing the accuracy of our model for varying values of `K`. We will also use multiple scattor plots showing trends between spam and non-spam mail and our predictor variables, where spam and non-spam would be identified by colour and shape. \n",
    "One plot will show this trend using our training set and correct labels, and the other will use our testing set and predicted labels."
   ]
  },
  {
   "cell_type": "markdown",
   "id": "0d2504d5-519f-48e8-8b9f-12c4eba0d3d5",
   "metadata": {},
   "source": [
    "### Expected outcomes and significance\n",
    "\n",
    "We expect to find that it is possible to identify malicious emails based on the use of capital letters and certain keywords in the message.\n",
    "In our personal experiences, untrustworthy emails tend to have grammatical errors and focus on monetary rewards, leading us to believe that this method will work.\n",
    "The impact that these findings could have is drastic. Mail providers such as Gmail and Outlook could use such classification systems (and likely already do) to filter out spam\n",
    "messages, provided that our model is accurate enough. A future question that we would foresee leading to is: Are there other potential grammatical devices that could predict the credibility of emails?"
   ]
  },
  {
   "cell_type": "markdown",
   "id": "ef20979c-081f-4041-b2c3-931943c3c403",
   "metadata": {},
   "source": [
    "Works Cited:\n",
    "\n",
    "    Kaddoura, S., Chandrasekaran, G., Elena Popescu, D., & Duraisamy, J. H. (2022). A systematic literature review on spam content detection and classification. PeerJ Computer Science, 8, e830. https://doi.org/10.7717/peerj-cs.830\n",
    "\n",
    "    Mujtaba, G., Shuib, L., Raj, R. G., Majeed, N., & Al-Garadi, M. A. (2017). Email Classification Research Trends: Review and Open Issues. IEEE Access, 5, 9044–9064. https://doi.org/10.1109/access.2017.2702187"
   ]
  },
  {
   "cell_type": "code",
   "execution_count": null,
   "id": "3a2002b1-5405-490f-8c5b-79c4566318e1",
   "metadata": {},
   "outputs": [],
   "source": []
  }
 ],
 "metadata": {
  "kernelspec": {
   "display_name": "Python 3 (ipykernel)",
   "language": "python",
   "name": "python3"
  },
  "language_info": {
   "codemirror_mode": {
    "name": "ipython",
    "version": 3
   },
   "file_extension": ".py",
   "mimetype": "text/x-python",
   "name": "python",
   "nbconvert_exporter": "python",
   "pygments_lexer": "ipython3",
   "version": "3.10.8"
  }
 },
 "nbformat": 4,
 "nbformat_minor": 5
}
